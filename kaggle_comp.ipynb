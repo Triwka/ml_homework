{
  "nbformat": 4,
  "nbformat_minor": 0,
  "metadata": {
    "colab": {
      "provenance": [],
      "authorship_tag": "ABX9TyMH0svRTDK5+TIoCtXiZwgz",
      "include_colab_link": true
    },
    "kernelspec": {
      "name": "python3",
      "display_name": "Python 3"
    },
    "language_info": {
      "name": "python"
    }
  },
  "cells": [
    {
      "cell_type": "markdown",
      "metadata": {
        "id": "view-in-github",
        "colab_type": "text"
      },
      "source": [
        "<a href=\"https://colab.research.google.com/github/Triwka/ml_homework/blob/main/kaggle_comp.ipynb\" target=\"_parent\"><img src=\"https://colab.research.google.com/assets/colab-badge.svg\" alt=\"Open In Colab\"/></a>"
      ]
    },
    {
      "cell_type": "code",
      "source": [
        "!pip install geopy"
      ],
      "metadata": {
        "colab": {
          "base_uri": "https://localhost:8080/"
        },
        "id": "DCOXhHWzswSS",
        "outputId": "b798a8c3-00db-4633-9c3a-570b47fb86fa"
      },
      "execution_count": 26,
      "outputs": [
        {
          "output_type": "stream",
          "name": "stdout",
          "text": [
            "Looking in indexes: https://pypi.org/simple, https://us-python.pkg.dev/colab-wheels/public/simple/\n",
            "Requirement already satisfied: geopy in /usr/local/lib/python3.8/dist-packages (1.17.0)\n",
            "Requirement already satisfied: geographiclib<2,>=1.49 in /usr/local/lib/python3.8/dist-packages (from geopy) (1.52)\n"
          ]
        }
      ]
    },
    {
      "cell_type": "code",
      "execution_count": 158,
      "metadata": {
        "id": "WA9GoPeuXkZk"
      },
      "outputs": [],
      "source": [
        "import numpy as np\n",
        "import pandas as pd\n",
        "import string\n",
        "import re\n",
        "\n",
        "from geopy.distance import geodesic\n",
        "from sklearn.model_selection import train_test_split, StratifiedKFold, RandomizedSearchCV\n",
        "from sklearn.linear_model import LogisticRegression\n",
        "from sklearn.neural_network import MLPClassifier\n",
        "from sklearn.neighbors import KNeighborsClassifier\n",
        "from sklearn.svm import SVC\n",
        "from sklearn.gaussian_process import GaussianProcessClassifier\n",
        "from sklearn.tree import DecisionTreeClassifier\n",
        "from sklearn.ensemble import RandomForestClassifier, AdaBoostClassifier\n",
        "from sklearn.naive_bayes import GaussianNB\n",
        "from sklearn.discriminant_analysis import QuadraticDiscriminantAnalysis\n",
        "from xgboost import XGBClassifier\n",
        "from sklearn.metrics import f1_score, average_precision_score\n",
        "import joblib\n",
        "\n",
        "\n",
        "#импортируем библиотеки matplotlib и seaborn для построения графиков\n",
        "import matplotlib.pyplot as plt\n",
        "import seaborn as sns\n",
        "\n",
        "%matplotlib inline\n"
      ]
    },
    {
      "cell_type": "code",
      "source": [
        "train = pd.read_csv('https://drive.google.com/uc?id=1pVqiPMX7L7bqviBCE-13_uA6ZfBCzOgw', sep=';')\n",
        "test = pd.read_csv('https://drive.google.com/uc?id=1YtjNEL0Yye6tkW26vpDbfQQv3dZvpSYr', sep=';')\n",
        "submission = pd.read_csv('https://drive.google.com/uc?id=1MTZnySU5mGdppCp9zq8mg-Of1I_rSai8', sep=';')"
      ],
      "metadata": {
        "id": "ICRZbFukX9gY"
      },
      "execution_count": 2,
      "outputs": []
    },
    {
      "cell_type": "code",
      "source": [
        "train.head()"
      ],
      "metadata": {
        "colab": {
          "base_uri": "https://localhost:8080/",
          "height": 548
        },
        "id": "qbhxydbjbw6S",
        "outputId": "af1821cb-496a-42ac-d20d-28da77de7ad0"
      },
      "execution_count": 6,
      "outputs": [
        {
          "output_type": "execute_result",
          "data": {
            "text/plain": [
              "   bathrooms  bedrooms                       building_id              created  \\\n",
              "0        1.0         0  cb0ecd5356125b546833239efdb154c2  2016-06-02 04:21:46   \n",
              "1        1.0         2  4df46d9768a98df24200a2e7693370bd  2016-05-26 05:44:12   \n",
              "2        1.0         0                                 0  2016-06-17 01:22:32   \n",
              "3        1.0         1  78e50c94b33bb1ceeb5f4c8ff7455703  2016-06-03 05:26:40   \n",
              "4        2.0         0  e87f1236b102798c1fa104a372800444  2016-04-12 04:10:28   \n",
              "\n",
              "                                         description   display_address  \\\n",
              "0          AMAZING STUDIO!! CONVENIENT TO ALL - G...       Gold Street   \n",
              "1  Near NYU, Washington SQ Park, centrally locate...   Thompson Street   \n",
              "2  RENT STABILIZED! FULL TIME DOORMAN.LEXINGTON A...  East 35th Street   \n",
              "3  WHY TO LIVE IN THIS LUXURIOUS BUILDING? WEEKDA...  West 42nd Street   \n",
              "4          Listed on the National Register of His...  Greenwich Street   \n",
              "\n",
              "                                            features  latitude  listing_id  \\\n",
              "0                   ['Cats Allowed', 'Dogs Allowed']   40.6969     7097709   \n",
              "1                                                 []   40.7264     7071860   \n",
              "2        ['Doorman', 'Dogs Allowed', 'Cats Allowed']   40.7466     7174524   \n",
              "3  ['Swimming Pool', 'Roof Deck', 'Dining Room', ...   40.7610     7104515   \n",
              "4            ['Doorman', 'Fitness Center', 'No Fee']   40.7324     6859942   \n",
              "\n",
              "   longitude                        manager_id  \\\n",
              "0   -73.9830  79d1809d224bc7f26c719f247d6c8dc6   \n",
              "1   -74.0013  e60b02e0cfd2eea7d777bb283d6f8d4d   \n",
              "2   -73.9779  91a276fdb4c7ae5ff56fd0884b5121db   \n",
              "3   -73.9992  cbcd513212d592e6c717d27be14f46ac   \n",
              "4   -74.0081  b209e2c4384a64cc307c26759ee0c651   \n",
              "\n",
              "                                              photos  price  \\\n",
              "0  ['https://photos.renthop.com/2/7097709_8f74305...   2575   \n",
              "1  ['https://photos.renthop.com/2/7071860_32b196a...   3250   \n",
              "2  ['https://photos.renthop.com/2/7174524_bde8df9...   2448   \n",
              "3  ['https://photos.renthop.com/2/7104515_bab0753...   3300   \n",
              "4  ['https://photos.renthop.com/2/6859942_16f88f7...   5450   \n",
              "\n",
              "         street_address interest_level  \n",
              "0       257 Gold Street            low  \n",
              "1   128 Thompson Street           high  \n",
              "2  165 East 35th Street            low  \n",
              "3  610 West 42nd Street            low  \n",
              "4  666 Greenwich Street            low  "
            ],
            "text/html": [
              "\n",
              "  <div id=\"df-07874af6-5852-4fb4-bcc2-69d9fbf85ee0\">\n",
              "    <div class=\"colab-df-container\">\n",
              "      <div>\n",
              "<style scoped>\n",
              "    .dataframe tbody tr th:only-of-type {\n",
              "        vertical-align: middle;\n",
              "    }\n",
              "\n",
              "    .dataframe tbody tr th {\n",
              "        vertical-align: top;\n",
              "    }\n",
              "\n",
              "    .dataframe thead th {\n",
              "        text-align: right;\n",
              "    }\n",
              "</style>\n",
              "<table border=\"1\" class=\"dataframe\">\n",
              "  <thead>\n",
              "    <tr style=\"text-align: right;\">\n",
              "      <th></th>\n",
              "      <th>bathrooms</th>\n",
              "      <th>bedrooms</th>\n",
              "      <th>building_id</th>\n",
              "      <th>created</th>\n",
              "      <th>description</th>\n",
              "      <th>display_address</th>\n",
              "      <th>features</th>\n",
              "      <th>latitude</th>\n",
              "      <th>listing_id</th>\n",
              "      <th>longitude</th>\n",
              "      <th>manager_id</th>\n",
              "      <th>photos</th>\n",
              "      <th>price</th>\n",
              "      <th>street_address</th>\n",
              "      <th>interest_level</th>\n",
              "    </tr>\n",
              "  </thead>\n",
              "  <tbody>\n",
              "    <tr>\n",
              "      <th>0</th>\n",
              "      <td>1.0</td>\n",
              "      <td>0</td>\n",
              "      <td>cb0ecd5356125b546833239efdb154c2</td>\n",
              "      <td>2016-06-02 04:21:46</td>\n",
              "      <td>AMAZING STUDIO!! CONVENIENT TO ALL - G...</td>\n",
              "      <td>Gold Street</td>\n",
              "      <td>['Cats Allowed', 'Dogs Allowed']</td>\n",
              "      <td>40.6969</td>\n",
              "      <td>7097709</td>\n",
              "      <td>-73.9830</td>\n",
              "      <td>79d1809d224bc7f26c719f247d6c8dc6</td>\n",
              "      <td>['https://photos.renthop.com/2/7097709_8f74305...</td>\n",
              "      <td>2575</td>\n",
              "      <td>257 Gold Street</td>\n",
              "      <td>low</td>\n",
              "    </tr>\n",
              "    <tr>\n",
              "      <th>1</th>\n",
              "      <td>1.0</td>\n",
              "      <td>2</td>\n",
              "      <td>4df46d9768a98df24200a2e7693370bd</td>\n",
              "      <td>2016-05-26 05:44:12</td>\n",
              "      <td>Near NYU, Washington SQ Park, centrally locate...</td>\n",
              "      <td>Thompson Street</td>\n",
              "      <td>[]</td>\n",
              "      <td>40.7264</td>\n",
              "      <td>7071860</td>\n",
              "      <td>-74.0013</td>\n",
              "      <td>e60b02e0cfd2eea7d777bb283d6f8d4d</td>\n",
              "      <td>['https://photos.renthop.com/2/7071860_32b196a...</td>\n",
              "      <td>3250</td>\n",
              "      <td>128 Thompson Street</td>\n",
              "      <td>high</td>\n",
              "    </tr>\n",
              "    <tr>\n",
              "      <th>2</th>\n",
              "      <td>1.0</td>\n",
              "      <td>0</td>\n",
              "      <td>0</td>\n",
              "      <td>2016-06-17 01:22:32</td>\n",
              "      <td>RENT STABILIZED! FULL TIME DOORMAN.LEXINGTON A...</td>\n",
              "      <td>East 35th Street</td>\n",
              "      <td>['Doorman', 'Dogs Allowed', 'Cats Allowed']</td>\n",
              "      <td>40.7466</td>\n",
              "      <td>7174524</td>\n",
              "      <td>-73.9779</td>\n",
              "      <td>91a276fdb4c7ae5ff56fd0884b5121db</td>\n",
              "      <td>['https://photos.renthop.com/2/7174524_bde8df9...</td>\n",
              "      <td>2448</td>\n",
              "      <td>165 East 35th Street</td>\n",
              "      <td>low</td>\n",
              "    </tr>\n",
              "    <tr>\n",
              "      <th>3</th>\n",
              "      <td>1.0</td>\n",
              "      <td>1</td>\n",
              "      <td>78e50c94b33bb1ceeb5f4c8ff7455703</td>\n",
              "      <td>2016-06-03 05:26:40</td>\n",
              "      <td>WHY TO LIVE IN THIS LUXURIOUS BUILDING? WEEKDA...</td>\n",
              "      <td>West 42nd Street</td>\n",
              "      <td>['Swimming Pool', 'Roof Deck', 'Dining Room', ...</td>\n",
              "      <td>40.7610</td>\n",
              "      <td>7104515</td>\n",
              "      <td>-73.9992</td>\n",
              "      <td>cbcd513212d592e6c717d27be14f46ac</td>\n",
              "      <td>['https://photos.renthop.com/2/7104515_bab0753...</td>\n",
              "      <td>3300</td>\n",
              "      <td>610 West 42nd Street</td>\n",
              "      <td>low</td>\n",
              "    </tr>\n",
              "    <tr>\n",
              "      <th>4</th>\n",
              "      <td>2.0</td>\n",
              "      <td>0</td>\n",
              "      <td>e87f1236b102798c1fa104a372800444</td>\n",
              "      <td>2016-04-12 04:10:28</td>\n",
              "      <td>Listed on the National Register of His...</td>\n",
              "      <td>Greenwich Street</td>\n",
              "      <td>['Doorman', 'Fitness Center', 'No Fee']</td>\n",
              "      <td>40.7324</td>\n",
              "      <td>6859942</td>\n",
              "      <td>-74.0081</td>\n",
              "      <td>b209e2c4384a64cc307c26759ee0c651</td>\n",
              "      <td>['https://photos.renthop.com/2/6859942_16f88f7...</td>\n",
              "      <td>5450</td>\n",
              "      <td>666 Greenwich Street</td>\n",
              "      <td>low</td>\n",
              "    </tr>\n",
              "  </tbody>\n",
              "</table>\n",
              "</div>\n",
              "      <button class=\"colab-df-convert\" onclick=\"convertToInteractive('df-07874af6-5852-4fb4-bcc2-69d9fbf85ee0')\"\n",
              "              title=\"Convert this dataframe to an interactive table.\"\n",
              "              style=\"display:none;\">\n",
              "        \n",
              "  <svg xmlns=\"http://www.w3.org/2000/svg\" height=\"24px\"viewBox=\"0 0 24 24\"\n",
              "       width=\"24px\">\n",
              "    <path d=\"M0 0h24v24H0V0z\" fill=\"none\"/>\n",
              "    <path d=\"M18.56 5.44l.94 2.06.94-2.06 2.06-.94-2.06-.94-.94-2.06-.94 2.06-2.06.94zm-11 1L8.5 8.5l.94-2.06 2.06-.94-2.06-.94L8.5 2.5l-.94 2.06-2.06.94zm10 10l.94 2.06.94-2.06 2.06-.94-2.06-.94-.94-2.06-.94 2.06-2.06.94z\"/><path d=\"M17.41 7.96l-1.37-1.37c-.4-.4-.92-.59-1.43-.59-.52 0-1.04.2-1.43.59L10.3 9.45l-7.72 7.72c-.78.78-.78 2.05 0 2.83L4 21.41c.39.39.9.59 1.41.59.51 0 1.02-.2 1.41-.59l7.78-7.78 2.81-2.81c.8-.78.8-2.07 0-2.86zM5.41 20L4 18.59l7.72-7.72 1.47 1.35L5.41 20z\"/>\n",
              "  </svg>\n",
              "      </button>\n",
              "      \n",
              "  <style>\n",
              "    .colab-df-container {\n",
              "      display:flex;\n",
              "      flex-wrap:wrap;\n",
              "      gap: 12px;\n",
              "    }\n",
              "\n",
              "    .colab-df-convert {\n",
              "      background-color: #E8F0FE;\n",
              "      border: none;\n",
              "      border-radius: 50%;\n",
              "      cursor: pointer;\n",
              "      display: none;\n",
              "      fill: #1967D2;\n",
              "      height: 32px;\n",
              "      padding: 0 0 0 0;\n",
              "      width: 32px;\n",
              "    }\n",
              "\n",
              "    .colab-df-convert:hover {\n",
              "      background-color: #E2EBFA;\n",
              "      box-shadow: 0px 1px 2px rgba(60, 64, 67, 0.3), 0px 1px 3px 1px rgba(60, 64, 67, 0.15);\n",
              "      fill: #174EA6;\n",
              "    }\n",
              "\n",
              "    [theme=dark] .colab-df-convert {\n",
              "      background-color: #3B4455;\n",
              "      fill: #D2E3FC;\n",
              "    }\n",
              "\n",
              "    [theme=dark] .colab-df-convert:hover {\n",
              "      background-color: #434B5C;\n",
              "      box-shadow: 0px 1px 3px 1px rgba(0, 0, 0, 0.15);\n",
              "      filter: drop-shadow(0px 1px 2px rgba(0, 0, 0, 0.3));\n",
              "      fill: #FFFFFF;\n",
              "    }\n",
              "  </style>\n",
              "\n",
              "      <script>\n",
              "        const buttonEl =\n",
              "          document.querySelector('#df-07874af6-5852-4fb4-bcc2-69d9fbf85ee0 button.colab-df-convert');\n",
              "        buttonEl.style.display =\n",
              "          google.colab.kernel.accessAllowed ? 'block' : 'none';\n",
              "\n",
              "        async function convertToInteractive(key) {\n",
              "          const element = document.querySelector('#df-07874af6-5852-4fb4-bcc2-69d9fbf85ee0');\n",
              "          const dataTable =\n",
              "            await google.colab.kernel.invokeFunction('convertToInteractive',\n",
              "                                                     [key], {});\n",
              "          if (!dataTable) return;\n",
              "\n",
              "          const docLinkHtml = 'Like what you see? Visit the ' +\n",
              "            '<a target=\"_blank\" href=https://colab.research.google.com/notebooks/data_table.ipynb>data table notebook</a>'\n",
              "            + ' to learn more about interactive tables.';\n",
              "          element.innerHTML = '';\n",
              "          dataTable['output_type'] = 'display_data';\n",
              "          await google.colab.output.renderOutput(dataTable, element);\n",
              "          const docLink = document.createElement('div');\n",
              "          docLink.innerHTML = docLinkHtml;\n",
              "          element.appendChild(docLink);\n",
              "        }\n",
              "      </script>\n",
              "    </div>\n",
              "  </div>\n",
              "  "
            ]
          },
          "metadata": {},
          "execution_count": 6
        }
      ]
    },
    {
      "cell_type": "code",
      "source": [
        "train.info()"
      ],
      "metadata": {
        "colab": {
          "base_uri": "https://localhost:8080/"
        },
        "id": "wnYweROabxZp",
        "outputId": "4ff3141b-c556-4324-8062-86d08ff86696"
      },
      "execution_count": 7,
      "outputs": [
        {
          "output_type": "stream",
          "name": "stdout",
          "text": [
            "<class 'pandas.core.frame.DataFrame'>\n",
            "RangeIndex: 39481 entries, 0 to 39480\n",
            "Data columns (total 15 columns):\n",
            " #   Column           Non-Null Count  Dtype  \n",
            "---  ------           --------------  -----  \n",
            " 0   bathrooms        39481 non-null  float64\n",
            " 1   bedrooms         39481 non-null  int64  \n",
            " 2   building_id      39481 non-null  object \n",
            " 3   created          39481 non-null  object \n",
            " 4   description      38337 non-null  object \n",
            " 5   display_address  39376 non-null  object \n",
            " 6   features         39481 non-null  object \n",
            " 7   latitude         39481 non-null  float64\n",
            " 8   listing_id       39481 non-null  int64  \n",
            " 9   longitude        39481 non-null  float64\n",
            " 10  manager_id       39481 non-null  object \n",
            " 11  photos           39481 non-null  object \n",
            " 12  price            39481 non-null  int64  \n",
            " 13  street_address   39472 non-null  object \n",
            " 14  interest_level   39481 non-null  object \n",
            "dtypes: float64(3), int64(3), object(9)\n",
            "memory usage: 4.5+ MB\n"
          ]
        }
      ]
    },
    {
      "cell_type": "code",
      "source": [
        "train.duplicated().sum()"
      ],
      "metadata": {
        "colab": {
          "base_uri": "https://localhost:8080/"
        },
        "id": "73aCjjqzdRd-",
        "outputId": "d162f800-05ee-47f1-8d24-6064ef47b578"
      },
      "execution_count": 10,
      "outputs": [
        {
          "output_type": "execute_result",
          "data": {
            "text/plain": [
              "0"
            ]
          },
          "metadata": {},
          "execution_count": 10
        }
      ]
    },
    {
      "cell_type": "code",
      "source": [
        "train.isna().sum()"
      ],
      "metadata": {
        "colab": {
          "base_uri": "https://localhost:8080/"
        },
        "id": "-HO-EWR6d0M1",
        "outputId": "496dd9f9-b9ba-4089-cf2a-4144c50df752"
      },
      "execution_count": 11,
      "outputs": [
        {
          "output_type": "execute_result",
          "data": {
            "text/plain": [
              "bathrooms             0\n",
              "bedrooms              0\n",
              "building_id           0\n",
              "created               0\n",
              "description        1144\n",
              "display_address     105\n",
              "features              0\n",
              "latitude              0\n",
              "listing_id            0\n",
              "longitude             0\n",
              "manager_id            0\n",
              "photos                0\n",
              "price                 0\n",
              "street_address        9\n",
              "interest_level        0\n",
              "dtype: int64"
            ]
          },
          "metadata": {},
          "execution_count": 11
        }
      ]
    },
    {
      "cell_type": "code",
      "source": [
        "train.description = train.description.fillna('empty')\n",
        "train = train.dropna()"
      ],
      "metadata": {
        "id": "JiFo3UdxeA6w"
      },
      "execution_count": 12,
      "outputs": []
    },
    {
      "cell_type": "markdown",
      "source": [
        "## 1.Добавление новых фичей\n"
      ],
      "metadata": {
        "id": "-16Y8Qtu5kcp"
      }
    },
    {
      "cell_type": "markdown",
      "source": [
        "1)Добавление фичей \"количество атрибутов квартиры\" и \"количество фотографий\""
      ],
      "metadata": {
        "id": "shtvTVLV5n2n"
      }
    },
    {
      "cell_type": "code",
      "source": [
        "train['num_features']=train['features'].str.replace('[\\[\\]\\']', '').str.split(', ').apply(len)\n",
        "train['num_photos']=train['photos'].str.replace('[\\[\\]\\']', '').str.split(', ').apply(len)"
      ],
      "metadata": {
        "colab": {
          "base_uri": "https://localhost:8080/"
        },
        "id": "c3Xu8RK9imoy",
        "outputId": "352fbf23-a4cd-4b29-d7bf-4d7d23c74d24"
      },
      "execution_count": 23,
      "outputs": [
        {
          "output_type": "stream",
          "name": "stderr",
          "text": [
            "<ipython-input-23-6a11e9b84264>:1: FutureWarning: The default value of regex will change from True to False in a future version.\n",
            "  train['num_features']=train['features'].str.replace('[\\[\\]\\']', '').str.split(', ').apply(len)\n",
            "<ipython-input-23-6a11e9b84264>:1: SettingWithCopyWarning: \n",
            "A value is trying to be set on a copy of a slice from a DataFrame.\n",
            "Try using .loc[row_indexer,col_indexer] = value instead\n",
            "\n",
            "See the caveats in the documentation: https://pandas.pydata.org/pandas-docs/stable/user_guide/indexing.html#returning-a-view-versus-a-copy\n",
            "  train['num_features']=train['features'].str.replace('[\\[\\]\\']', '').str.split(', ').apply(len)\n",
            "<ipython-input-23-6a11e9b84264>:2: FutureWarning: The default value of regex will change from True to False in a future version.\n",
            "  train['num_photos']=train['photos'].str.replace('[\\[\\]\\']', '').str.split(', ').apply(len)\n",
            "<ipython-input-23-6a11e9b84264>:2: SettingWithCopyWarning: \n",
            "A value is trying to be set on a copy of a slice from a DataFrame.\n",
            "Try using .loc[row_indexer,col_indexer] = value instead\n",
            "\n",
            "See the caveats in the documentation: https://pandas.pydata.org/pandas-docs/stable/user_guide/indexing.html#returning-a-view-versus-a-copy\n",
            "  train['num_photos']=train['photos'].str.replace('[\\[\\]\\']', '').str.split(', ').apply(len)\n"
          ]
        }
      ]
    },
    {
      "cell_type": "markdown",
      "source": [
        "2)ГИПОТЕЗА:популярость квартиры зависит от её удалённости до какого-либо объекта - добавление фичей \"удалённость до какого-либо популярного объекта\""
      ],
      "metadata": {
        "id": "ylF6R-Iv6L1i"
      }
    },
    {
      "cell_type": "code",
      "source": [
        "central_park = tuple([40.7736,-73.9727]) #Координаты центрального парка\n",
        "time_square = tuple([40.7577,-73.9857])  #Координаты тайм-сквера\n",
        "wall_street = tuple([40.7072,-74.0116])   #Координаты уолл-стрит"
      ],
      "metadata": {
        "id": "RXiWyo9g6dks"
      },
      "execution_count": 90,
      "outputs": []
    },
    {
      "cell_type": "code",
      "source": [
        "train['distance_central_park'] = train.latitude\n",
        "train['distance_time_square'] = train.latitude\n",
        "train['distance_wall_street'] = train.latitude"
      ],
      "metadata": {
        "colab": {
          "base_uri": "https://localhost:8080/"
        },
        "id": "idYDr7zX7yYi",
        "outputId": "bcc5fed3-d752-4ec2-d662-e71ea48cb456"
      },
      "execution_count": 86,
      "outputs": [
        {
          "output_type": "stream",
          "name": "stderr",
          "text": [
            "<ipython-input-86-6c4e55cd8bc2>:1: SettingWithCopyWarning: \n",
            "A value is trying to be set on a copy of a slice from a DataFrame.\n",
            "Try using .loc[row_indexer,col_indexer] = value instead\n",
            "\n",
            "See the caveats in the documentation: https://pandas.pydata.org/pandas-docs/stable/user_guide/indexing.html#returning-a-view-versus-a-copy\n",
            "  train['distance_central_park'] = train.latitude\n",
            "<ipython-input-86-6c4e55cd8bc2>:2: SettingWithCopyWarning: \n",
            "A value is trying to be set on a copy of a slice from a DataFrame.\n",
            "Try using .loc[row_indexer,col_indexer] = value instead\n",
            "\n",
            "See the caveats in the documentation: https://pandas.pydata.org/pandas-docs/stable/user_guide/indexing.html#returning-a-view-versus-a-copy\n",
            "  train['distance_time_square'] = train.latitude\n",
            "<ipython-input-86-6c4e55cd8bc2>:3: SettingWithCopyWarning: \n",
            "A value is trying to be set on a copy of a slice from a DataFrame.\n",
            "Try using .loc[row_indexer,col_indexer] = value instead\n",
            "\n",
            "See the caveats in the documentation: https://pandas.pydata.org/pandas-docs/stable/user_guide/indexing.html#returning-a-view-versus-a-copy\n",
            "  train['distance_wall_street'] = train.latitude\n"
          ]
        }
      ]
    },
    {
      "cell_type": "code",
      "source": [
        "train.head()"
      ],
      "metadata": {
        "colab": {
          "base_uri": "https://localhost:8080/",
          "height": 548
        },
        "id": "OHaAJKpc8F4Q",
        "outputId": "9f889915-a8c8-4178-c842-b8b9eb296e16"
      },
      "execution_count": 87,
      "outputs": [
        {
          "output_type": "execute_result",
          "data": {
            "text/plain": [
              "   bathrooms  bedrooms                       building_id              created  \\\n",
              "0        1.0         0  cb0ecd5356125b546833239efdb154c2  2016-06-02 04:21:46   \n",
              "1        1.0         2  4df46d9768a98df24200a2e7693370bd  2016-05-26 05:44:12   \n",
              "2        1.0         0                                 0  2016-06-17 01:22:32   \n",
              "3        1.0         1  78e50c94b33bb1ceeb5f4c8ff7455703  2016-06-03 05:26:40   \n",
              "4        2.0         0  e87f1236b102798c1fa104a372800444  2016-04-12 04:10:28   \n",
              "\n",
              "                                         description   display_address  \\\n",
              "0          AMAZING STUDIO!! CONVENIENT TO ALL - G...       Gold Street   \n",
              "1  Near NYU, Washington SQ Park, centrally locate...   Thompson Street   \n",
              "2  RENT STABILIZED! FULL TIME DOORMAN.LEXINGTON A...  East 35th Street   \n",
              "3  WHY TO LIVE IN THIS LUXURIOUS BUILDING? WEEKDA...  West 42nd Street   \n",
              "4          Listed on the National Register of His...  Greenwich Street   \n",
              "\n",
              "                                            features  latitude  listing_id  \\\n",
              "0                   ['Cats Allowed', 'Dogs Allowed']   40.6969     7097709   \n",
              "1                                                 []   40.7264     7071860   \n",
              "2        ['Doorman', 'Dogs Allowed', 'Cats Allowed']   40.7466     7174524   \n",
              "3  ['Swimming Pool', 'Roof Deck', 'Dining Room', ...   40.7610     7104515   \n",
              "4            ['Doorman', 'Fitness Center', 'No Fee']   40.7324     6859942   \n",
              "\n",
              "   longitude                        manager_id  \\\n",
              "0   -73.9830  79d1809d224bc7f26c719f247d6c8dc6   \n",
              "1   -74.0013  e60b02e0cfd2eea7d777bb283d6f8d4d   \n",
              "2   -73.9779  91a276fdb4c7ae5ff56fd0884b5121db   \n",
              "3   -73.9992  cbcd513212d592e6c717d27be14f46ac   \n",
              "4   -74.0081  b209e2c4384a64cc307c26759ee0c651   \n",
              "\n",
              "                                              photos  price  \\\n",
              "0  ['https://photos.renthop.com/2/7097709_8f74305...   2575   \n",
              "1  ['https://photos.renthop.com/2/7071860_32b196a...   3250   \n",
              "2  ['https://photos.renthop.com/2/7174524_bde8df9...   2448   \n",
              "3  ['https://photos.renthop.com/2/7104515_bab0753...   3300   \n",
              "4  ['https://photos.renthop.com/2/6859942_16f88f7...   5450   \n",
              "\n",
              "         street_address interest_level  num_features  num_photos  \\\n",
              "0       257 Gold Street            low             2          10   \n",
              "1   128 Thompson Street           high             1           5   \n",
              "2  165 East 35th Street            low             3           1   \n",
              "3  610 West 42nd Street            low            16           6   \n",
              "4  666 Greenwich Street            low             3           8   \n",
              "\n",
              "   distance_central_park  distance_time_square  distance_wall_street  \n",
              "0                40.6969               40.6969               40.6969  \n",
              "1                40.7264               40.7264               40.7264  \n",
              "2                40.7466               40.7466               40.7466  \n",
              "3                40.7610               40.7610               40.7610  \n",
              "4                40.7324               40.7324               40.7324  "
            ],
            "text/html": [
              "\n",
              "  <div id=\"df-e11ea48e-e8be-414c-8f4d-438db29c4f65\">\n",
              "    <div class=\"colab-df-container\">\n",
              "      <div>\n",
              "<style scoped>\n",
              "    .dataframe tbody tr th:only-of-type {\n",
              "        vertical-align: middle;\n",
              "    }\n",
              "\n",
              "    .dataframe tbody tr th {\n",
              "        vertical-align: top;\n",
              "    }\n",
              "\n",
              "    .dataframe thead th {\n",
              "        text-align: right;\n",
              "    }\n",
              "</style>\n",
              "<table border=\"1\" class=\"dataframe\">\n",
              "  <thead>\n",
              "    <tr style=\"text-align: right;\">\n",
              "      <th></th>\n",
              "      <th>bathrooms</th>\n",
              "      <th>bedrooms</th>\n",
              "      <th>building_id</th>\n",
              "      <th>created</th>\n",
              "      <th>description</th>\n",
              "      <th>display_address</th>\n",
              "      <th>features</th>\n",
              "      <th>latitude</th>\n",
              "      <th>listing_id</th>\n",
              "      <th>longitude</th>\n",
              "      <th>manager_id</th>\n",
              "      <th>photos</th>\n",
              "      <th>price</th>\n",
              "      <th>street_address</th>\n",
              "      <th>interest_level</th>\n",
              "      <th>num_features</th>\n",
              "      <th>num_photos</th>\n",
              "      <th>distance_central_park</th>\n",
              "      <th>distance_time_square</th>\n",
              "      <th>distance_wall_street</th>\n",
              "    </tr>\n",
              "  </thead>\n",
              "  <tbody>\n",
              "    <tr>\n",
              "      <th>0</th>\n",
              "      <td>1.0</td>\n",
              "      <td>0</td>\n",
              "      <td>cb0ecd5356125b546833239efdb154c2</td>\n",
              "      <td>2016-06-02 04:21:46</td>\n",
              "      <td>AMAZING STUDIO!! CONVENIENT TO ALL - G...</td>\n",
              "      <td>Gold Street</td>\n",
              "      <td>['Cats Allowed', 'Dogs Allowed']</td>\n",
              "      <td>40.6969</td>\n",
              "      <td>7097709</td>\n",
              "      <td>-73.9830</td>\n",
              "      <td>79d1809d224bc7f26c719f247d6c8dc6</td>\n",
              "      <td>['https://photos.renthop.com/2/7097709_8f74305...</td>\n",
              "      <td>2575</td>\n",
              "      <td>257 Gold Street</td>\n",
              "      <td>low</td>\n",
              "      <td>2</td>\n",
              "      <td>10</td>\n",
              "      <td>40.6969</td>\n",
              "      <td>40.6969</td>\n",
              "      <td>40.6969</td>\n",
              "    </tr>\n",
              "    <tr>\n",
              "      <th>1</th>\n",
              "      <td>1.0</td>\n",
              "      <td>2</td>\n",
              "      <td>4df46d9768a98df24200a2e7693370bd</td>\n",
              "      <td>2016-05-26 05:44:12</td>\n",
              "      <td>Near NYU, Washington SQ Park, centrally locate...</td>\n",
              "      <td>Thompson Street</td>\n",
              "      <td>[]</td>\n",
              "      <td>40.7264</td>\n",
              "      <td>7071860</td>\n",
              "      <td>-74.0013</td>\n",
              "      <td>e60b02e0cfd2eea7d777bb283d6f8d4d</td>\n",
              "      <td>['https://photos.renthop.com/2/7071860_32b196a...</td>\n",
              "      <td>3250</td>\n",
              "      <td>128 Thompson Street</td>\n",
              "      <td>high</td>\n",
              "      <td>1</td>\n",
              "      <td>5</td>\n",
              "      <td>40.7264</td>\n",
              "      <td>40.7264</td>\n",
              "      <td>40.7264</td>\n",
              "    </tr>\n",
              "    <tr>\n",
              "      <th>2</th>\n",
              "      <td>1.0</td>\n",
              "      <td>0</td>\n",
              "      <td>0</td>\n",
              "      <td>2016-06-17 01:22:32</td>\n",
              "      <td>RENT STABILIZED! FULL TIME DOORMAN.LEXINGTON A...</td>\n",
              "      <td>East 35th Street</td>\n",
              "      <td>['Doorman', 'Dogs Allowed', 'Cats Allowed']</td>\n",
              "      <td>40.7466</td>\n",
              "      <td>7174524</td>\n",
              "      <td>-73.9779</td>\n",
              "      <td>91a276fdb4c7ae5ff56fd0884b5121db</td>\n",
              "      <td>['https://photos.renthop.com/2/7174524_bde8df9...</td>\n",
              "      <td>2448</td>\n",
              "      <td>165 East 35th Street</td>\n",
              "      <td>low</td>\n",
              "      <td>3</td>\n",
              "      <td>1</td>\n",
              "      <td>40.7466</td>\n",
              "      <td>40.7466</td>\n",
              "      <td>40.7466</td>\n",
              "    </tr>\n",
              "    <tr>\n",
              "      <th>3</th>\n",
              "      <td>1.0</td>\n",
              "      <td>1</td>\n",
              "      <td>78e50c94b33bb1ceeb5f4c8ff7455703</td>\n",
              "      <td>2016-06-03 05:26:40</td>\n",
              "      <td>WHY TO LIVE IN THIS LUXURIOUS BUILDING? WEEKDA...</td>\n",
              "      <td>West 42nd Street</td>\n",
              "      <td>['Swimming Pool', 'Roof Deck', 'Dining Room', ...</td>\n",
              "      <td>40.7610</td>\n",
              "      <td>7104515</td>\n",
              "      <td>-73.9992</td>\n",
              "      <td>cbcd513212d592e6c717d27be14f46ac</td>\n",
              "      <td>['https://photos.renthop.com/2/7104515_bab0753...</td>\n",
              "      <td>3300</td>\n",
              "      <td>610 West 42nd Street</td>\n",
              "      <td>low</td>\n",
              "      <td>16</td>\n",
              "      <td>6</td>\n",
              "      <td>40.7610</td>\n",
              "      <td>40.7610</td>\n",
              "      <td>40.7610</td>\n",
              "    </tr>\n",
              "    <tr>\n",
              "      <th>4</th>\n",
              "      <td>2.0</td>\n",
              "      <td>0</td>\n",
              "      <td>e87f1236b102798c1fa104a372800444</td>\n",
              "      <td>2016-04-12 04:10:28</td>\n",
              "      <td>Listed on the National Register of His...</td>\n",
              "      <td>Greenwich Street</td>\n",
              "      <td>['Doorman', 'Fitness Center', 'No Fee']</td>\n",
              "      <td>40.7324</td>\n",
              "      <td>6859942</td>\n",
              "      <td>-74.0081</td>\n",
              "      <td>b209e2c4384a64cc307c26759ee0c651</td>\n",
              "      <td>['https://photos.renthop.com/2/6859942_16f88f7...</td>\n",
              "      <td>5450</td>\n",
              "      <td>666 Greenwich Street</td>\n",
              "      <td>low</td>\n",
              "      <td>3</td>\n",
              "      <td>8</td>\n",
              "      <td>40.7324</td>\n",
              "      <td>40.7324</td>\n",
              "      <td>40.7324</td>\n",
              "    </tr>\n",
              "  </tbody>\n",
              "</table>\n",
              "</div>\n",
              "      <button class=\"colab-df-convert\" onclick=\"convertToInteractive('df-e11ea48e-e8be-414c-8f4d-438db29c4f65')\"\n",
              "              title=\"Convert this dataframe to an interactive table.\"\n",
              "              style=\"display:none;\">\n",
              "        \n",
              "  <svg xmlns=\"http://www.w3.org/2000/svg\" height=\"24px\"viewBox=\"0 0 24 24\"\n",
              "       width=\"24px\">\n",
              "    <path d=\"M0 0h24v24H0V0z\" fill=\"none\"/>\n",
              "    <path d=\"M18.56 5.44l.94 2.06.94-2.06 2.06-.94-2.06-.94-.94-2.06-.94 2.06-2.06.94zm-11 1L8.5 8.5l.94-2.06 2.06-.94-2.06-.94L8.5 2.5l-.94 2.06-2.06.94zm10 10l.94 2.06.94-2.06 2.06-.94-2.06-.94-.94-2.06-.94 2.06-2.06.94z\"/><path d=\"M17.41 7.96l-1.37-1.37c-.4-.4-.92-.59-1.43-.59-.52 0-1.04.2-1.43.59L10.3 9.45l-7.72 7.72c-.78.78-.78 2.05 0 2.83L4 21.41c.39.39.9.59 1.41.59.51 0 1.02-.2 1.41-.59l7.78-7.78 2.81-2.81c.8-.78.8-2.07 0-2.86zM5.41 20L4 18.59l7.72-7.72 1.47 1.35L5.41 20z\"/>\n",
              "  </svg>\n",
              "      </button>\n",
              "      \n",
              "  <style>\n",
              "    .colab-df-container {\n",
              "      display:flex;\n",
              "      flex-wrap:wrap;\n",
              "      gap: 12px;\n",
              "    }\n",
              "\n",
              "    .colab-df-convert {\n",
              "      background-color: #E8F0FE;\n",
              "      border: none;\n",
              "      border-radius: 50%;\n",
              "      cursor: pointer;\n",
              "      display: none;\n",
              "      fill: #1967D2;\n",
              "      height: 32px;\n",
              "      padding: 0 0 0 0;\n",
              "      width: 32px;\n",
              "    }\n",
              "\n",
              "    .colab-df-convert:hover {\n",
              "      background-color: #E2EBFA;\n",
              "      box-shadow: 0px 1px 2px rgba(60, 64, 67, 0.3), 0px 1px 3px 1px rgba(60, 64, 67, 0.15);\n",
              "      fill: #174EA6;\n",
              "    }\n",
              "\n",
              "    [theme=dark] .colab-df-convert {\n",
              "      background-color: #3B4455;\n",
              "      fill: #D2E3FC;\n",
              "    }\n",
              "\n",
              "    [theme=dark] .colab-df-convert:hover {\n",
              "      background-color: #434B5C;\n",
              "      box-shadow: 0px 1px 3px 1px rgba(0, 0, 0, 0.15);\n",
              "      filter: drop-shadow(0px 1px 2px rgba(0, 0, 0, 0.3));\n",
              "      fill: #FFFFFF;\n",
              "    }\n",
              "  </style>\n",
              "\n",
              "      <script>\n",
              "        const buttonEl =\n",
              "          document.querySelector('#df-e11ea48e-e8be-414c-8f4d-438db29c4f65 button.colab-df-convert');\n",
              "        buttonEl.style.display =\n",
              "          google.colab.kernel.accessAllowed ? 'block' : 'none';\n",
              "\n",
              "        async function convertToInteractive(key) {\n",
              "          const element = document.querySelector('#df-e11ea48e-e8be-414c-8f4d-438db29c4f65');\n",
              "          const dataTable =\n",
              "            await google.colab.kernel.invokeFunction('convertToInteractive',\n",
              "                                                     [key], {});\n",
              "          if (!dataTable) return;\n",
              "\n",
              "          const docLinkHtml = 'Like what you see? Visit the ' +\n",
              "            '<a target=\"_blank\" href=https://colab.research.google.com/notebooks/data_table.ipynb>data table notebook</a>'\n",
              "            + ' to learn more about interactive tables.';\n",
              "          element.innerHTML = '';\n",
              "          dataTable['output_type'] = 'display_data';\n",
              "          await google.colab.output.renderOutput(dataTable, element);\n",
              "          const docLink = document.createElement('div');\n",
              "          docLink.innerHTML = docLinkHtml;\n",
              "          element.appendChild(docLink);\n",
              "        }\n",
              "      </script>\n",
              "    </div>\n",
              "  </div>\n",
              "  "
            ]
          },
          "metadata": {},
          "execution_count": 87
        }
      ]
    },
    {
      "cell_type": "code",
      "source": [
        "for i in range(train.shape[0]):\n",
        "  train.distance_central_park.iloc[i] = geodesic((train.latitude.iloc[i],train.longitude.iloc[i]),central_park).miles\n",
        "\n",
        "for i in range(train.shape[0]):\n",
        "  train.distance_time_square.iloc[i] = geodesic((train.latitude.iloc[i],train.longitude.iloc[i]),time_square).miles\n",
        "\n",
        "for i in range(train.shape[0]):\n",
        "  train.distance_wall_street.iloc[i] = geodesic((train.latitude.iloc[i],train.longitude.iloc[i]),wall_street).miles"
      ],
      "metadata": {
        "colab": {
          "base_uri": "https://localhost:8080/"
        },
        "id": "2vfj7H2v3gcd",
        "outputId": "101957b9-2d52-4632-d1b7-26e503f59bb4"
      },
      "execution_count": 91,
      "outputs": [
        {
          "output_type": "stream",
          "name": "stderr",
          "text": [
            "/usr/local/lib/python3.8/dist-packages/pandas/core/indexing.py:1732: SettingWithCopyWarning: \n",
            "A value is trying to be set on a copy of a slice from a DataFrame\n",
            "\n",
            "See the caveats in the documentation: https://pandas.pydata.org/pandas-docs/stable/user_guide/indexing.html#returning-a-view-versus-a-copy\n",
            "  self._setitem_single_block(indexer, value, name)\n"
          ]
        }
      ]
    },
    {
      "cell_type": "markdown",
      "source": [
        "3)Некоторые фичи из списка атрибутов квартиры\n"
      ],
      "metadata": {
        "id": "3rmwEe1zePKa"
      }
    },
    {
      "cell_type": "code",
      "source": [
        "train['dogs_allowed'] = train.features.apply(lambda x: 1 if 'Dogs Allowed' in x else 0) #разрешены ли собаки\n",
        "train['cats_allowed'] = train.features.apply(lambda x: 1 if 'Cats Allowed' in x else 0) #разрешены ли кошки\n",
        "train['doorman'] = train.features.apply(lambda x: 1 if 'Doorman' in x else 0) #есть ли консьерж"
      ],
      "metadata": {
        "id": "2PCpFEUKcrQS"
      },
      "execution_count": null,
      "outputs": []
    },
    {
      "cell_type": "code",
      "source": [
        "train[train.interest_level == 'low'].price.describe()"
      ],
      "metadata": {
        "colab": {
          "base_uri": "https://localhost:8080/"
        },
        "id": "yWtgPKsDes3M",
        "outputId": "224c97b0-f1e9-4456-d453-33b8ac2b47fa"
      },
      "execution_count": 136,
      "outputs": [
        {
          "output_type": "execute_result",
          "data": {
            "text/plain": [
              "count    2.737500e+04\n",
              "mean     4.067016e+03\n",
              "std      1.178325e+04\n",
              "min      4.300000e+01\n",
              "25%      2.625000e+03\n",
              "50%      3.300000e+03\n",
              "75%      4.400000e+03\n",
              "max      1.150000e+06\n",
              "Name: price, dtype: float64"
            ]
          },
          "metadata": {},
          "execution_count": 136
        }
      ]
    },
    {
      "cell_type": "code",
      "source": [
        "train[train.interest_level == 'high'].price.describe()"
      ],
      "metadata": {
        "colab": {
          "base_uri": "https://localhost:8080/"
        },
        "id": "Wolyl9MGhhcL",
        "outputId": "b3ec35ec-a9dc-4ba5-ccaa-df62648803ee"
      },
      "execution_count": 133,
      "outputs": [
        {
          "output_type": "execute_result",
          "data": {
            "text/plain": [
              "count      3080.000000\n",
              "mean       2692.612338\n",
              "std        2250.406333\n",
              "min         700.000000\n",
              "25%        1850.000000\n",
              "50%        2400.000000\n",
              "75%        3104.000000\n",
              "max      111111.000000\n",
              "Name: price, dtype: float64"
            ]
          },
          "metadata": {},
          "execution_count": 133
        }
      ]
    },
    {
      "cell_type": "code",
      "source": [
        "train[train.interest_level == 'medium'].price.describe()"
      ],
      "metadata": {
        "colab": {
          "base_uri": "https://localhost:8080/"
        },
        "id": "4hONdjCbiU3W",
        "outputId": "f13a18b5-e50e-4272-ea53-4de517236e35"
      },
      "execution_count": 134,
      "outputs": [
        {
          "output_type": "execute_result",
          "data": {
            "text/plain": [
              "count     8920.000000\n",
              "mean      3158.442152\n",
              "std       1247.192766\n",
              "min        695.000000\n",
              "25%       2300.000000\n",
              "50%       2890.000000\n",
              "75%       3650.000000\n",
              "max      15000.000000\n",
              "Name: price, dtype: float64"
            ]
          },
          "metadata": {},
          "execution_count": 134
        }
      ]
    },
    {
      "cell_type": "markdown",
      "source": [
        "Из вышеприведенной статистики видно, что средняя цена \"горячего\" объявления - 2692\n",
        "(у него и отклонение отличается аж в два раза от остальных, но пока я не знаю какую информацию можно из этого извлечь)"
      ],
      "metadata": {
        "id": "pSjLi0Nwk_1c"
      }
    },
    {
      "cell_type": "markdown",
      "source": [
        "Вообще, надо бы уточнить что из себя представляет interest_level, потому что если это популярность квартиры(считается что человек её очно просмотрел) то цена имеет меньше влияние, а если это популярность объявления(количество кликов на объявление), то цена имеет фактор кликбейта(указать привлекательную-человек заходит, а там сверху надбавки за атрибуты разные коммуналка и проч.)\n",
        "4)\n",
        "Следующая фича сгенерирована на основе того, что популярность объявления высчитана путем подсчета количества кликов на объявление\n"
      ],
      "metadata": {
        "id": "JPhuuktFjq61"
      }
    },
    {
      "cell_type": "code",
      "source": [
        "train['price_lower_than_2700'] = train.price.apply(lambda x: 1 if x < 2700 else 0)"
      ],
      "metadata": {
        "id": "3ncXqre1icSl"
      },
      "execution_count": null,
      "outputs": []
    },
    {
      "cell_type": "markdown",
      "source": [
        "5)ГИПОТЕЗА: информация о fee в объявлении также влияет на то кликнет на неё пользователь или нет"
      ],
      "metadata": {
        "id": "qOx3wD-epw2b"
      }
    },
    {
      "cell_type": "code",
      "source": [
        "string.punctuation"
      ],
      "metadata": {
        "colab": {
          "base_uri": "https://localhost:8080/",
          "height": 35
        },
        "id": "tZmG5jB7naSl",
        "outputId": "ffa53027-48b8-4a92-c4ae-422551789ccc"
      },
      "execution_count": 146,
      "outputs": [
        {
          "output_type": "execute_result",
          "data": {
            "text/plain": [
              "'!\"#$%&\\'()*+,-./:;<=>?@[\\\\]^_`{|}~'"
            ],
            "application/vnd.google.colaboratory.intrinsic+json": {
              "type": "string"
            }
          },
          "metadata": {},
          "execution_count": 146
        }
      ]
    },
    {
      "cell_type": "code",
      "source": [
        "s = train.description.iloc[24]\n",
        "type(s)"
      ],
      "metadata": {
        "colab": {
          "base_uri": "https://localhost:8080/"
        },
        "id": "5tNdyMfQoJOS",
        "outputId": "e9c91ad0-aa1b-4e12-b06f-2c861cf7de9e"
      },
      "execution_count": 157,
      "outputs": [
        {
          "output_type": "execute_result",
          "data": {
            "text/plain": [
              "str"
            ]
          },
          "metadata": {},
          "execution_count": 157
        }
      ]
    },
    {
      "cell_type": "markdown",
      "source": [],
      "metadata": {
        "id": "eTpSj9Bhpums"
      }
    },
    {
      "cell_type": "code",
      "source": [
        "train.description.iloc[24].apply(lambda x: x.replace(string.punctuation,''))"
      ],
      "metadata": {
        "colab": {
          "base_uri": "https://localhost:8080/",
          "height": 165
        },
        "id": "wg5MXG_EkxIp",
        "outputId": "ec75ea81-a711-416d-b7fb-49fde98ca3c4"
      },
      "execution_count": 155,
      "outputs": [
        {
          "output_type": "error",
          "ename": "AttributeError",
          "evalue": "ignored",
          "traceback": [
            "\u001b[0;31m---------------------------------------------------------------------------\u001b[0m",
            "\u001b[0;31mAttributeError\u001b[0m                            Traceback (most recent call last)",
            "\u001b[0;32m<ipython-input-155-825cb616dd30>\u001b[0m in \u001b[0;36m<module>\u001b[0;34m\u001b[0m\n\u001b[0;32m----> 1\u001b[0;31m \u001b[0mtrain\u001b[0m\u001b[0;34m.\u001b[0m\u001b[0mdescription\u001b[0m\u001b[0;34m.\u001b[0m\u001b[0miloc\u001b[0m\u001b[0;34m[\u001b[0m\u001b[0;36m24\u001b[0m\u001b[0;34m]\u001b[0m\u001b[0;34m.\u001b[0m\u001b[0mapply\u001b[0m\u001b[0;34m(\u001b[0m\u001b[0;32mlambda\u001b[0m \u001b[0mx\u001b[0m\u001b[0;34m:\u001b[0m \u001b[0mx\u001b[0m\u001b[0;34m.\u001b[0m\u001b[0mreplace\u001b[0m\u001b[0;34m(\u001b[0m\u001b[0mstring\u001b[0m\u001b[0;34m.\u001b[0m\u001b[0mpunctuation\u001b[0m\u001b[0;34m,\u001b[0m\u001b[0;34m''\u001b[0m\u001b[0;34m)\u001b[0m\u001b[0;34m)\u001b[0m\u001b[0;34m\u001b[0m\u001b[0;34m\u001b[0m\u001b[0m\n\u001b[0m",
            "\u001b[0;31mAttributeError\u001b[0m: 'str' object has no attribute 'apply'"
          ]
        }
      ]
    },
    {
      "cell_type": "code",
      "source": [],
      "metadata": {
        "id": "L1UNfaurl-cZ"
      },
      "execution_count": null,
      "outputs": []
    }
  ]
}