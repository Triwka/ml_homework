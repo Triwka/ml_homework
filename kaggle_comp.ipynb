{
  "nbformat": 4,
  "nbformat_minor": 0,
  "metadata": {
    "colab": {
      "provenance": [],
      "authorship_tag": "ABX9TyOhKoQ4RftBmdtQo3VgKrJt",
      "include_colab_link": true
    },
    "kernelspec": {
      "name": "python3",
      "display_name": "Python 3"
    },
    "language_info": {
      "name": "python"
    }
  },
  "cells": [
    {
      "cell_type": "markdown",
      "metadata": {
        "id": "view-in-github",
        "colab_type": "text"
      },
      "source": [
        "<a href=\"https://colab.research.google.com/github/Triwka/ml_homework/blob/main/kaggle_comp.ipynb\" target=\"_parent\"><img src=\"https://colab.research.google.com/assets/colab-badge.svg\" alt=\"Open In Colab\"/></a>"
      ]
    },
    {
      "cell_type": "code",
      "source": [
        "!pip install geopy"
      ],
      "metadata": {
        "colab": {
          "base_uri": "https://localhost:8080/"
        },
        "id": "DCOXhHWzswSS",
        "outputId": "3cbbfc9d-6239-4eaa-bad0-54c563f9dd6e"
      },
      "execution_count": 1,
      "outputs": [
        {
          "output_type": "stream",
          "name": "stdout",
          "text": [
            "Looking in indexes: https://pypi.org/simple, https://us-python.pkg.dev/colab-wheels/public/simple/\n",
            "Requirement already satisfied: geopy in /usr/local/lib/python3.8/dist-packages (1.17.0)\n",
            "Requirement already satisfied: geographiclib<2,>=1.49 in /usr/local/lib/python3.8/dist-packages (from geopy) (1.52)\n"
          ]
        }
      ]
    },
    {
      "cell_type": "code",
      "source": [
        "SEED = 777"
      ],
      "metadata": {
        "id": "kklOe-5rnOKf"
      },
      "execution_count": 147,
      "outputs": []
    },
    {
      "cell_type": "code",
      "execution_count": 86,
      "metadata": {
        "id": "WA9GoPeuXkZk"
      },
      "outputs": [],
      "source": [
        "import numpy as np\n",
        "import pandas as pd\n",
        "import string\n",
        "import datetime\n",
        "import re\n",
        "\n",
        "from geopy.distance import geodesic\n",
        "from sklearn.model_selection import train_test_split, StratifiedKFold, RandomizedSearchCV\n",
        "from sklearn.linear_model import LogisticRegression\n",
        "from sklearn.neural_network import MLPClassifier\n",
        "from sklearn.neighbors import KNeighborsClassifier\n",
        "from sklearn.svm import SVC\n",
        "from sklearn.gaussian_process import GaussianProcessClassifier\n",
        "from sklearn.tree import DecisionTreeClassifier\n",
        "from sklearn.ensemble import RandomForestClassifier, AdaBoostClassifier\n",
        "from sklearn.naive_bayes import GaussianNB\n",
        "from sklearn.discriminant_analysis import QuadraticDiscriminantAnalysis\n",
        "from xgboost import XGBClassifier\n",
        "from sklearn.metrics import f1_score, average_precision_score\n",
        "from sklearn.metrics import accuracy_score, f1_score, average_precision_score, roc_auc_score, classification_report, precision_score, recall_score\n",
        "from sklearn.preprocessing import StandardScaler, Normalizer\n",
        "import joblib\n",
        "\n",
        "\n",
        "#импортируем библиотеки matplotlib и seaborn для построения графиков\n",
        "import matplotlib.pyplot as plt\n",
        "import seaborn as sns\n",
        "\n",
        "%matplotlib inline\n"
      ]
    },
    {
      "cell_type": "code",
      "source": [
        "train = pd.read_csv('https://drive.google.com/uc?id=1pVqiPMX7L7bqviBCE-13_uA6ZfBCzOgw', sep=';')\n",
        "test = pd.read_csv('https://drive.google.com/uc?id=1YtjNEL0Yye6tkW26vpDbfQQv3dZvpSYr', sep=';')\n",
        "submission = pd.read_csv('https://drive.google.com/uc?id=1MTZnySU5mGdppCp9zq8mg-Of1I_rSai8', sep=';')"
      ],
      "metadata": {
        "id": "ICRZbFukX9gY"
      },
      "execution_count": 9,
      "outputs": []
    },
    {
      "cell_type": "markdown",
      "source": [
        "Перевод interest_level в цифры\n"
      ],
      "metadata": {
        "id": "6qGb-Gy7ctMg"
      }
    },
    {
      "cell_type": "code",
      "source": [
        "mapper={\n",
        "        'low':0,\n",
        "        'medium':1,\n",
        "        'high':2\n",
        "       }\n",
        "train['interest_level'] = train['interest_level'].apply(lambda x: mapper[x])"
      ],
      "metadata": {
        "id": "GmLS3j7Uckqh"
      },
      "execution_count": 74,
      "outputs": []
    },
    {
      "cell_type": "code",
      "source": [
        "train.head()"
      ],
      "metadata": {
        "colab": {
          "base_uri": "https://localhost:8080/",
          "height": 548
        },
        "id": "qbhxydbjbw6S",
        "outputId": "34a5f4a2-d7f3-4c34-d6db-57eafadd7786"
      },
      "execution_count": 10,
      "outputs": [
        {
          "output_type": "execute_result",
          "data": {
            "text/plain": [
              "   bathrooms  bedrooms                       building_id              created  \\\n",
              "0        1.0         0  cb0ecd5356125b546833239efdb154c2  2016-06-02 04:21:46   \n",
              "1        1.0         2  4df46d9768a98df24200a2e7693370bd  2016-05-26 05:44:12   \n",
              "2        1.0         0                                 0  2016-06-17 01:22:32   \n",
              "3        1.0         1  78e50c94b33bb1ceeb5f4c8ff7455703  2016-06-03 05:26:40   \n",
              "4        2.0         0  e87f1236b102798c1fa104a372800444  2016-04-12 04:10:28   \n",
              "\n",
              "                                         description   display_address  \\\n",
              "0          AMAZING STUDIO!! CONVENIENT TO ALL - G...       Gold Street   \n",
              "1  Near NYU, Washington SQ Park, centrally locate...   Thompson Street   \n",
              "2  RENT STABILIZED! FULL TIME DOORMAN.LEXINGTON A...  East 35th Street   \n",
              "3  WHY TO LIVE IN THIS LUXURIOUS BUILDING? WEEKDA...  West 42nd Street   \n",
              "4          Listed on the National Register of His...  Greenwich Street   \n",
              "\n",
              "                                            features  latitude  listing_id  \\\n",
              "0                   ['Cats Allowed', 'Dogs Allowed']   40.6969     7097709   \n",
              "1                                                 []   40.7264     7071860   \n",
              "2        ['Doorman', 'Dogs Allowed', 'Cats Allowed']   40.7466     7174524   \n",
              "3  ['Swimming Pool', 'Roof Deck', 'Dining Room', ...   40.7610     7104515   \n",
              "4            ['Doorman', 'Fitness Center', 'No Fee']   40.7324     6859942   \n",
              "\n",
              "   longitude                        manager_id  \\\n",
              "0   -73.9830  79d1809d224bc7f26c719f247d6c8dc6   \n",
              "1   -74.0013  e60b02e0cfd2eea7d777bb283d6f8d4d   \n",
              "2   -73.9779  91a276fdb4c7ae5ff56fd0884b5121db   \n",
              "3   -73.9992  cbcd513212d592e6c717d27be14f46ac   \n",
              "4   -74.0081  b209e2c4384a64cc307c26759ee0c651   \n",
              "\n",
              "                                              photos  price  \\\n",
              "0  ['https://photos.renthop.com/2/7097709_8f74305...   2575   \n",
              "1  ['https://photos.renthop.com/2/7071860_32b196a...   3250   \n",
              "2  ['https://photos.renthop.com/2/7174524_bde8df9...   2448   \n",
              "3  ['https://photos.renthop.com/2/7104515_bab0753...   3300   \n",
              "4  ['https://photos.renthop.com/2/6859942_16f88f7...   5450   \n",
              "\n",
              "         street_address interest_level  \n",
              "0       257 Gold Street            low  \n",
              "1   128 Thompson Street           high  \n",
              "2  165 East 35th Street            low  \n",
              "3  610 West 42nd Street            low  \n",
              "4  666 Greenwich Street            low  "
            ],
            "text/html": [
              "\n",
              "  <div id=\"df-71378479-21d8-4040-afde-299d53a88ab9\">\n",
              "    <div class=\"colab-df-container\">\n",
              "      <div>\n",
              "<style scoped>\n",
              "    .dataframe tbody tr th:only-of-type {\n",
              "        vertical-align: middle;\n",
              "    }\n",
              "\n",
              "    .dataframe tbody tr th {\n",
              "        vertical-align: top;\n",
              "    }\n",
              "\n",
              "    .dataframe thead th {\n",
              "        text-align: right;\n",
              "    }\n",
              "</style>\n",
              "<table border=\"1\" class=\"dataframe\">\n",
              "  <thead>\n",
              "    <tr style=\"text-align: right;\">\n",
              "      <th></th>\n",
              "      <th>bathrooms</th>\n",
              "      <th>bedrooms</th>\n",
              "      <th>building_id</th>\n",
              "      <th>created</th>\n",
              "      <th>description</th>\n",
              "      <th>display_address</th>\n",
              "      <th>features</th>\n",
              "      <th>latitude</th>\n",
              "      <th>listing_id</th>\n",
              "      <th>longitude</th>\n",
              "      <th>manager_id</th>\n",
              "      <th>photos</th>\n",
              "      <th>price</th>\n",
              "      <th>street_address</th>\n",
              "      <th>interest_level</th>\n",
              "    </tr>\n",
              "  </thead>\n",
              "  <tbody>\n",
              "    <tr>\n",
              "      <th>0</th>\n",
              "      <td>1.0</td>\n",
              "      <td>0</td>\n",
              "      <td>cb0ecd5356125b546833239efdb154c2</td>\n",
              "      <td>2016-06-02 04:21:46</td>\n",
              "      <td>AMAZING STUDIO!! CONVENIENT TO ALL - G...</td>\n",
              "      <td>Gold Street</td>\n",
              "      <td>['Cats Allowed', 'Dogs Allowed']</td>\n",
              "      <td>40.6969</td>\n",
              "      <td>7097709</td>\n",
              "      <td>-73.9830</td>\n",
              "      <td>79d1809d224bc7f26c719f247d6c8dc6</td>\n",
              "      <td>['https://photos.renthop.com/2/7097709_8f74305...</td>\n",
              "      <td>2575</td>\n",
              "      <td>257 Gold Street</td>\n",
              "      <td>low</td>\n",
              "    </tr>\n",
              "    <tr>\n",
              "      <th>1</th>\n",
              "      <td>1.0</td>\n",
              "      <td>2</td>\n",
              "      <td>4df46d9768a98df24200a2e7693370bd</td>\n",
              "      <td>2016-05-26 05:44:12</td>\n",
              "      <td>Near NYU, Washington SQ Park, centrally locate...</td>\n",
              "      <td>Thompson Street</td>\n",
              "      <td>[]</td>\n",
              "      <td>40.7264</td>\n",
              "      <td>7071860</td>\n",
              "      <td>-74.0013</td>\n",
              "      <td>e60b02e0cfd2eea7d777bb283d6f8d4d</td>\n",
              "      <td>['https://photos.renthop.com/2/7071860_32b196a...</td>\n",
              "      <td>3250</td>\n",
              "      <td>128 Thompson Street</td>\n",
              "      <td>high</td>\n",
              "    </tr>\n",
              "    <tr>\n",
              "      <th>2</th>\n",
              "      <td>1.0</td>\n",
              "      <td>0</td>\n",
              "      <td>0</td>\n",
              "      <td>2016-06-17 01:22:32</td>\n",
              "      <td>RENT STABILIZED! FULL TIME DOORMAN.LEXINGTON A...</td>\n",
              "      <td>East 35th Street</td>\n",
              "      <td>['Doorman', 'Dogs Allowed', 'Cats Allowed']</td>\n",
              "      <td>40.7466</td>\n",
              "      <td>7174524</td>\n",
              "      <td>-73.9779</td>\n",
              "      <td>91a276fdb4c7ae5ff56fd0884b5121db</td>\n",
              "      <td>['https://photos.renthop.com/2/7174524_bde8df9...</td>\n",
              "      <td>2448</td>\n",
              "      <td>165 East 35th Street</td>\n",
              "      <td>low</td>\n",
              "    </tr>\n",
              "    <tr>\n",
              "      <th>3</th>\n",
              "      <td>1.0</td>\n",
              "      <td>1</td>\n",
              "      <td>78e50c94b33bb1ceeb5f4c8ff7455703</td>\n",
              "      <td>2016-06-03 05:26:40</td>\n",
              "      <td>WHY TO LIVE IN THIS LUXURIOUS BUILDING? WEEKDA...</td>\n",
              "      <td>West 42nd Street</td>\n",
              "      <td>['Swimming Pool', 'Roof Deck', 'Dining Room', ...</td>\n",
              "      <td>40.7610</td>\n",
              "      <td>7104515</td>\n",
              "      <td>-73.9992</td>\n",
              "      <td>cbcd513212d592e6c717d27be14f46ac</td>\n",
              "      <td>['https://photos.renthop.com/2/7104515_bab0753...</td>\n",
              "      <td>3300</td>\n",
              "      <td>610 West 42nd Street</td>\n",
              "      <td>low</td>\n",
              "    </tr>\n",
              "    <tr>\n",
              "      <th>4</th>\n",
              "      <td>2.0</td>\n",
              "      <td>0</td>\n",
              "      <td>e87f1236b102798c1fa104a372800444</td>\n",
              "      <td>2016-04-12 04:10:28</td>\n",
              "      <td>Listed on the National Register of His...</td>\n",
              "      <td>Greenwich Street</td>\n",
              "      <td>['Doorman', 'Fitness Center', 'No Fee']</td>\n",
              "      <td>40.7324</td>\n",
              "      <td>6859942</td>\n",
              "      <td>-74.0081</td>\n",
              "      <td>b209e2c4384a64cc307c26759ee0c651</td>\n",
              "      <td>['https://photos.renthop.com/2/6859942_16f88f7...</td>\n",
              "      <td>5450</td>\n",
              "      <td>666 Greenwich Street</td>\n",
              "      <td>low</td>\n",
              "    </tr>\n",
              "  </tbody>\n",
              "</table>\n",
              "</div>\n",
              "      <button class=\"colab-df-convert\" onclick=\"convertToInteractive('df-71378479-21d8-4040-afde-299d53a88ab9')\"\n",
              "              title=\"Convert this dataframe to an interactive table.\"\n",
              "              style=\"display:none;\">\n",
              "        \n",
              "  <svg xmlns=\"http://www.w3.org/2000/svg\" height=\"24px\"viewBox=\"0 0 24 24\"\n",
              "       width=\"24px\">\n",
              "    <path d=\"M0 0h24v24H0V0z\" fill=\"none\"/>\n",
              "    <path d=\"M18.56 5.44l.94 2.06.94-2.06 2.06-.94-2.06-.94-.94-2.06-.94 2.06-2.06.94zm-11 1L8.5 8.5l.94-2.06 2.06-.94-2.06-.94L8.5 2.5l-.94 2.06-2.06.94zm10 10l.94 2.06.94-2.06 2.06-.94-2.06-.94-.94-2.06-.94 2.06-2.06.94z\"/><path d=\"M17.41 7.96l-1.37-1.37c-.4-.4-.92-.59-1.43-.59-.52 0-1.04.2-1.43.59L10.3 9.45l-7.72 7.72c-.78.78-.78 2.05 0 2.83L4 21.41c.39.39.9.59 1.41.59.51 0 1.02-.2 1.41-.59l7.78-7.78 2.81-2.81c.8-.78.8-2.07 0-2.86zM5.41 20L4 18.59l7.72-7.72 1.47 1.35L5.41 20z\"/>\n",
              "  </svg>\n",
              "      </button>\n",
              "      \n",
              "  <style>\n",
              "    .colab-df-container {\n",
              "      display:flex;\n",
              "      flex-wrap:wrap;\n",
              "      gap: 12px;\n",
              "    }\n",
              "\n",
              "    .colab-df-convert {\n",
              "      background-color: #E8F0FE;\n",
              "      border: none;\n",
              "      border-radius: 50%;\n",
              "      cursor: pointer;\n",
              "      display: none;\n",
              "      fill: #1967D2;\n",
              "      height: 32px;\n",
              "      padding: 0 0 0 0;\n",
              "      width: 32px;\n",
              "    }\n",
              "\n",
              "    .colab-df-convert:hover {\n",
              "      background-color: #E2EBFA;\n",
              "      box-shadow: 0px 1px 2px rgba(60, 64, 67, 0.3), 0px 1px 3px 1px rgba(60, 64, 67, 0.15);\n",
              "      fill: #174EA6;\n",
              "    }\n",
              "\n",
              "    [theme=dark] .colab-df-convert {\n",
              "      background-color: #3B4455;\n",
              "      fill: #D2E3FC;\n",
              "    }\n",
              "\n",
              "    [theme=dark] .colab-df-convert:hover {\n",
              "      background-color: #434B5C;\n",
              "      box-shadow: 0px 1px 3px 1px rgba(0, 0, 0, 0.15);\n",
              "      filter: drop-shadow(0px 1px 2px rgba(0, 0, 0, 0.3));\n",
              "      fill: #FFFFFF;\n",
              "    }\n",
              "  </style>\n",
              "\n",
              "      <script>\n",
              "        const buttonEl =\n",
              "          document.querySelector('#df-71378479-21d8-4040-afde-299d53a88ab9 button.colab-df-convert');\n",
              "        buttonEl.style.display =\n",
              "          google.colab.kernel.accessAllowed ? 'block' : 'none';\n",
              "\n",
              "        async function convertToInteractive(key) {\n",
              "          const element = document.querySelector('#df-71378479-21d8-4040-afde-299d53a88ab9');\n",
              "          const dataTable =\n",
              "            await google.colab.kernel.invokeFunction('convertToInteractive',\n",
              "                                                     [key], {});\n",
              "          if (!dataTable) return;\n",
              "\n",
              "          const docLinkHtml = 'Like what you see? Visit the ' +\n",
              "            '<a target=\"_blank\" href=https://colab.research.google.com/notebooks/data_table.ipynb>data table notebook</a>'\n",
              "            + ' to learn more about interactive tables.';\n",
              "          element.innerHTML = '';\n",
              "          dataTable['output_type'] = 'display_data';\n",
              "          await google.colab.output.renderOutput(dataTable, element);\n",
              "          const docLink = document.createElement('div');\n",
              "          docLink.innerHTML = docLinkHtml;\n",
              "          element.appendChild(docLink);\n",
              "        }\n",
              "      </script>\n",
              "    </div>\n",
              "  </div>\n",
              "  "
            ]
          },
          "metadata": {},
          "execution_count": 10
        }
      ]
    },
    {
      "cell_type": "code",
      "source": [
        "train.info()"
      ],
      "metadata": {
        "colab": {
          "base_uri": "https://localhost:8080/"
        },
        "id": "wnYweROabxZp",
        "outputId": "522a9eea-4747-48b8-e9cd-ad09b461eaf7"
      },
      "execution_count": 12,
      "outputs": [
        {
          "output_type": "stream",
          "name": "stdout",
          "text": [
            "<class 'pandas.core.frame.DataFrame'>\n",
            "RangeIndex: 39481 entries, 0 to 39480\n",
            "Data columns (total 15 columns):\n",
            " #   Column           Non-Null Count  Dtype  \n",
            "---  ------           --------------  -----  \n",
            " 0   bathrooms        39481 non-null  float64\n",
            " 1   bedrooms         39481 non-null  int64  \n",
            " 2   building_id      39481 non-null  object \n",
            " 3   created          39481 non-null  object \n",
            " 4   description      38337 non-null  object \n",
            " 5   display_address  39376 non-null  object \n",
            " 6   features         39481 non-null  object \n",
            " 7   latitude         39481 non-null  float64\n",
            " 8   listing_id       39481 non-null  int64  \n",
            " 9   longitude        39481 non-null  float64\n",
            " 10  manager_id       39481 non-null  object \n",
            " 11  photos           39481 non-null  object \n",
            " 12  price            39481 non-null  int64  \n",
            " 13  street_address   39472 non-null  object \n",
            " 14  interest_level   39481 non-null  object \n",
            "dtypes: float64(3), int64(3), object(9)\n",
            "memory usage: 4.5+ MB\n"
          ]
        }
      ]
    },
    {
      "cell_type": "code",
      "source": [
        "train.duplicated().sum()"
      ],
      "metadata": {
        "colab": {
          "base_uri": "https://localhost:8080/"
        },
        "id": "73aCjjqzdRd-",
        "outputId": "cf5a7e74-9137-4549-add2-b1de69149e87"
      },
      "execution_count": 13,
      "outputs": [
        {
          "output_type": "execute_result",
          "data": {
            "text/plain": [
              "0"
            ]
          },
          "metadata": {},
          "execution_count": 13
        }
      ]
    },
    {
      "cell_type": "code",
      "source": [
        "train.isna().sum()"
      ],
      "metadata": {
        "colab": {
          "base_uri": "https://localhost:8080/"
        },
        "id": "-HO-EWR6d0M1",
        "outputId": "2d48b53c-d76e-4ee1-c32f-4b613dd9fe1d"
      },
      "execution_count": 15,
      "outputs": [
        {
          "output_type": "execute_result",
          "data": {
            "text/plain": [
              "bathrooms             0\n",
              "bedrooms              0\n",
              "building_id           0\n",
              "created               0\n",
              "description        1144\n",
              "display_address     105\n",
              "features              0\n",
              "latitude              0\n",
              "listing_id            0\n",
              "longitude             0\n",
              "manager_id            0\n",
              "photos                0\n",
              "price                 0\n",
              "street_address        9\n",
              "interest_level        0\n",
              "dtype: int64"
            ]
          },
          "metadata": {},
          "execution_count": 15
        }
      ]
    },
    {
      "cell_type": "code",
      "source": [
        "train.description = train.description.fillna('empty')\n",
        "train = train.dropna()"
      ],
      "metadata": {
        "id": "JiFo3UdxeA6w"
      },
      "execution_count": 16,
      "outputs": []
    },
    {
      "cell_type": "markdown",
      "source": [
        "## 1.Добавление новых фичей\n"
      ],
      "metadata": {
        "id": "-16Y8Qtu5kcp"
      }
    },
    {
      "cell_type": "markdown",
      "source": [
        "1)Добавление фичей \"количество атрибутов квартиры\" и \"количество фотографий\""
      ],
      "metadata": {
        "id": "shtvTVLV5n2n"
      }
    },
    {
      "cell_type": "code",
      "source": [
        "train['num_features']=train['features'].str.replace('[\\[\\]\\']', '').str.split(', ').apply(len)\n",
        "train['num_photos']=train['photos'].str.replace('[\\[\\]\\']', '').str.split(', ').apply(len)"
      ],
      "metadata": {
        "colab": {
          "base_uri": "https://localhost:8080/"
        },
        "id": "c3Xu8RK9imoy",
        "outputId": "b5d3a18b-baa4-495c-de22-ec5f4c1b6d58"
      },
      "execution_count": 17,
      "outputs": [
        {
          "output_type": "stream",
          "name": "stderr",
          "text": [
            "<ipython-input-17-6a11e9b84264>:1: FutureWarning: The default value of regex will change from True to False in a future version.\n",
            "  train['num_features']=train['features'].str.replace('[\\[\\]\\']', '').str.split(', ').apply(len)\n",
            "<ipython-input-17-6a11e9b84264>:2: FutureWarning: The default value of regex will change from True to False in a future version.\n",
            "  train['num_photos']=train['photos'].str.replace('[\\[\\]\\']', '').str.split(', ').apply(len)\n"
          ]
        }
      ]
    },
    {
      "cell_type": "markdown",
      "source": [
        "2)ГИПОТЕЗА:популярость квартиры зависит от её удалённости до какого-либо объекта - добавление фичей \"удалённость до какого-либо популярного объекта\""
      ],
      "metadata": {
        "id": "ylF6R-Iv6L1i"
      }
    },
    {
      "cell_type": "code",
      "source": [
        "central_park = tuple([40.7736,-73.9727]) #Координаты центрального парка\n",
        "time_square = tuple([40.7577,-73.9857])  #Координаты тайм-сквера\n",
        "wall_street = tuple([40.7072,-74.0116])   #Координаты уолл-стрит"
      ],
      "metadata": {
        "id": "RXiWyo9g6dks"
      },
      "execution_count": 18,
      "outputs": []
    },
    {
      "cell_type": "code",
      "source": [
        "train['distance_central_park'] = train.latitude\n",
        "train['distance_time_square'] = train.latitude\n",
        "train['distance_wall_street'] = train.latitude"
      ],
      "metadata": {
        "id": "idYDr7zX7yYi"
      },
      "execution_count": 19,
      "outputs": []
    },
    {
      "cell_type": "code",
      "source": [
        "for i in range(train.shape[0]):\n",
        "  train.distance_central_park.iloc[i] = geodesic((train.latitude.iloc[i],train.longitude.iloc[i]),central_park).miles\n",
        "\n",
        "for i in range(train.shape[0]):\n",
        "  train.distance_time_square.iloc[i] = geodesic((train.latitude.iloc[i],train.longitude.iloc[i]),time_square).miles\n",
        "\n",
        "for i in range(train.shape[0]):\n",
        "  train.distance_wall_street.iloc[i] = geodesic((train.latitude.iloc[i],train.longitude.iloc[i]),wall_street).miles"
      ],
      "metadata": {
        "colab": {
          "base_uri": "https://localhost:8080/"
        },
        "id": "2vfj7H2v3gcd",
        "outputId": "b67419a1-0705-4c25-b157-df6c53938a7d"
      },
      "execution_count": 21,
      "outputs": [
        {
          "output_type": "stream",
          "name": "stderr",
          "text": [
            "/usr/local/lib/python3.8/dist-packages/pandas/core/indexing.py:1732: SettingWithCopyWarning: \n",
            "A value is trying to be set on a copy of a slice from a DataFrame\n",
            "\n",
            "See the caveats in the documentation: https://pandas.pydata.org/pandas-docs/stable/user_guide/indexing.html#returning-a-view-versus-a-copy\n",
            "  self._setitem_single_block(indexer, value, name)\n"
          ]
        }
      ]
    },
    {
      "cell_type": "markdown",
      "source": [
        "Также из лора гамбургероголовых(осуждаю) можно сказать выдвинуть гипотезы, что популярность квартиры зависит от наличия в шаговой доступности: метро, школы, церкви, удалённость от какого-нибудь гетто, но я не знаю как добавить информацию об этом в датафрейм. С метро можно было бы также с помощью geopy вычислить расстояние до каждой станции и добавлять меньшее для каждого объявления, но станций 450+, а списком их координаты я не нашёл."
      ],
      "metadata": {
        "id": "nmXahZFSKPM4"
      }
    },
    {
      "cell_type": "markdown",
      "source": [
        "3)Некоторые фичи из списка атрибутов квартиры\n"
      ],
      "metadata": {
        "id": "3rmwEe1zePKa"
      }
    },
    {
      "cell_type": "code",
      "source": [
        "train['dogs_allowed'] = train.features.apply(lambda x: 1 if 'Dogs Allowed' in x else 0) #разрешены ли собаки\n",
        "train['cats_allowed'] = train.features.apply(lambda x: 1 if 'Cats Allowed' in x else 0) #разрешены ли кошки\n",
        "train['doorman'] = train.features.apply(lambda x: 1 if 'Doorman' in x else 0) #есть ли консьерж"
      ],
      "metadata": {
        "id": "2PCpFEUKcrQS"
      },
      "execution_count": 22,
      "outputs": []
    },
    {
      "cell_type": "code",
      "source": [
        "train[train.interest_level == 'low'].price.describe()"
      ],
      "metadata": {
        "colab": {
          "base_uri": "https://localhost:8080/"
        },
        "id": "yWtgPKsDes3M",
        "outputId": "71af02a6-eeda-43f7-f691-5d9c27f7fe00"
      },
      "execution_count": 23,
      "outputs": [
        {
          "output_type": "execute_result",
          "data": {
            "text/plain": [
              "count    2.737500e+04\n",
              "mean     4.067016e+03\n",
              "std      1.178325e+04\n",
              "min      4.300000e+01\n",
              "25%      2.625000e+03\n",
              "50%      3.300000e+03\n",
              "75%      4.400000e+03\n",
              "max      1.150000e+06\n",
              "Name: price, dtype: float64"
            ]
          },
          "metadata": {},
          "execution_count": 23
        }
      ]
    },
    {
      "cell_type": "code",
      "source": [
        "train[train.interest_level == 'high'].price.describe()"
      ],
      "metadata": {
        "colab": {
          "base_uri": "https://localhost:8080/"
        },
        "id": "Wolyl9MGhhcL",
        "outputId": "5046c127-5994-457b-b7ad-7d9101a5d401"
      },
      "execution_count": 24,
      "outputs": [
        {
          "output_type": "execute_result",
          "data": {
            "text/plain": [
              "count      3080.000000\n",
              "mean       2692.612338\n",
              "std        2250.406333\n",
              "min         700.000000\n",
              "25%        1850.000000\n",
              "50%        2400.000000\n",
              "75%        3104.000000\n",
              "max      111111.000000\n",
              "Name: price, dtype: float64"
            ]
          },
          "metadata": {},
          "execution_count": 24
        }
      ]
    },
    {
      "cell_type": "code",
      "source": [
        "train[train.interest_level == 'medium'].price.describe()"
      ],
      "metadata": {
        "colab": {
          "base_uri": "https://localhost:8080/"
        },
        "id": "4hONdjCbiU3W",
        "outputId": "859567b1-d974-44a8-bf78-c2537642eddf"
      },
      "execution_count": 25,
      "outputs": [
        {
          "output_type": "execute_result",
          "data": {
            "text/plain": [
              "count     8920.000000\n",
              "mean      3158.442152\n",
              "std       1247.192766\n",
              "min        695.000000\n",
              "25%       2300.000000\n",
              "50%       2890.000000\n",
              "75%       3650.000000\n",
              "max      15000.000000\n",
              "Name: price, dtype: float64"
            ]
          },
          "metadata": {},
          "execution_count": 25
        }
      ]
    },
    {
      "cell_type": "markdown",
      "source": [
        "Из вышеприведенной статистики видно, что средняя цена \"горячего\" объявления - 2692\n",
        "(у него и отклонение отличается аж в два раза от остальных, но пока я не знаю какую информацию можно из этого извлечь)"
      ],
      "metadata": {
        "id": "pSjLi0Nwk_1c"
      }
    },
    {
      "cell_type": "markdown",
      "source": [
        "Вообще, надо бы уточнить что из себя представляет interest_level, потому что если это популярность квартиры(считается что человек её очно просмотрел) то цена имеет меньше влияние, а если это популярность объявления(количество кликов на объявление), то цена имеет фактор кликбейта(указать привлекательную-человек заходит, а там сверху надбавки за атрибуты разные коммуналка и проч.)\n",
        "4)\n",
        "Следующая фича сгенерирована на основе того, что популярность объявления высчитана путем подсчета количества кликов на объявление\n"
      ],
      "metadata": {
        "id": "JPhuuktFjq61"
      }
    },
    {
      "cell_type": "code",
      "source": [
        "train['price_lower_than_2700'] = train.price.apply(lambda x: 1 if x < 2700 else 0)"
      ],
      "metadata": {
        "id": "3ncXqre1icSl"
      },
      "execution_count": 26,
      "outputs": []
    },
    {
      "cell_type": "code",
      "source": [
        "train[5:]"
      ],
      "metadata": {
        "id": "YTccrdFaK97E"
      },
      "execution_count": null,
      "outputs": []
    },
    {
      "cell_type": "markdown",
      "source": [
        "5)ГИПОТЕЗА: информация о fee в объявлении также влияет на то кликнет на неё пользователь или нет"
      ],
      "metadata": {
        "id": "qOx3wD-epw2b"
      }
    },
    {
      "cell_type": "code",
      "source": [
        "#функция для удаления символов пунктуации и цифр\n",
        "def del_puncdigit(string):\n",
        "    return ' '.join((re.sub(r'[№\"\\'_/.:?!\\d()%<>;,+#$&\\s+]', u' ', string)).lower().split())\n",
        "               \n"
      ],
      "metadata": {
        "id": "zshMR2Q66c6S"
      },
      "execution_count": 34,
      "outputs": []
    },
    {
      "cell_type": "code",
      "source": [
        "train['fee_inf'] = train.description.apply(lambda x: 1 if 'fee' in del_puncdigit(x).split() else 0)"
      ],
      "metadata": {
        "id": "V5abCz22PNI-"
      },
      "execution_count": 40,
      "outputs": []
    },
    {
      "cell_type": "markdown",
      "source": [
        "6)ГИПОТЕЗА: популярность объявления зависит от менеджера"
      ],
      "metadata": {
        "id": "dNlVZfYNQ_j4"
      }
    },
    {
      "cell_type": "code",
      "source": [
        "c00l_managers = train[train.interest_level == 'high'].manager_id.to_list() #создаем список \"крутых менеджеров\", у которых \"горячие\" объявления, чтобы проверять наличие конкретного в этом списке"
      ],
      "metadata": {
        "id": "FktEzSuTP2UN"
      },
      "execution_count": 48,
      "outputs": []
    },
    {
      "cell_type": "code",
      "source": [
        "train['cool_manager'] = train.manager_id.apply(lambda x: 1 if x in c00l_managers else 0)"
      ],
      "metadata": {
        "id": "QmtTaxkQRO9u"
      },
      "execution_count": 49,
      "outputs": []
    },
    {
      "cell_type": "code",
      "source": [
        "cat_columns = []\n",
        "num_columns = []\n",
        "\n",
        "for column_name in train.columns:\n",
        "    if (train[column_name].dtypes == object):\n",
        "        cat_columns +=[column_name]\n",
        "    else:\n",
        "        num_columns +=[column_name]\n",
        "\n",
        "print('Категориальные данные:\\t ',cat_columns, '\\n Число столблцов = ',len(cat_columns))\n",
        "\n",
        "print('Числовые данные:\\t ',  num_columns, '\\n Число столблцов = ',len(num_columns))"
      ],
      "metadata": {
        "colab": {
          "base_uri": "https://localhost:8080/"
        },
        "id": "oJjwCOHFRxFl",
        "outputId": "2d023525-e02d-40d0-eeb4-cb44cf50ac67"
      },
      "execution_count": 92,
      "outputs": [
        {
          "output_type": "stream",
          "name": "stdout",
          "text": [
            "Категориальные данные:\t  ['building_id', 'description', 'display_address', 'features', 'manager_id', 'photos', 'street_address', 'clean_desc'] \n",
            " Число столблцов =  8\n",
            "Числовые данные:\t  ['bathrooms', 'bedrooms', 'created', 'latitude', 'listing_id', 'longitude', 'price', 'interest_level', 'num_features', 'num_photos', 'distance_central_park', 'distance_time_square', 'distance_wall_street', 'dogs_allowed', 'cats_allowed', 'doorman', 'price_lower_than_2700', 'fee_inf', 'cool_manager', 'created_hour'] \n",
            " Число столблцов =  20\n"
          ]
        }
      ]
    },
    {
      "cell_type": "code",
      "source": [
        "train[num_columns]"
      ],
      "metadata": {
        "colab": {
          "base_uri": "https://localhost:8080/",
          "height": 488
        },
        "id": "YIbNVkR_U3Dh",
        "outputId": "7c50839e-ea24-4303-d430-8c282f2c5d91"
      },
      "execution_count": 52,
      "outputs": [
        {
          "output_type": "execute_result",
          "data": {
            "text/plain": [
              "       bathrooms  bedrooms  latitude  listing_id  longitude  price  \\\n",
              "0            1.0         0   40.6969     7097709   -73.9830   2575   \n",
              "1            1.0         2   40.7264     7071860   -74.0013   3250   \n",
              "2            1.0         0   40.7466     7174524   -73.9779   2448   \n",
              "3            1.0         1   40.7610     7104515   -73.9992   3300   \n",
              "4            2.0         0   40.7324     6859942   -74.0081   5450   \n",
              "...          ...       ...       ...         ...        ...    ...   \n",
              "39476        1.0         3   40.7446     7183085   -73.9740   3795   \n",
              "39477        1.0         0   40.7085     6927008   -74.0165   2725   \n",
              "39478        1.0         0   40.5956     6852162   -73.7555    999   \n",
              "39479        1.0         1   40.7671     7103463   -73.9529   2450   \n",
              "39480        1.0         0   40.7448     7162044   -73.9919   3345   \n",
              "\n",
              "       num_features  num_photos  distance_central_park  distance_time_square  \\\n",
              "0                 2          10               5.320034              4.197741   \n",
              "1                 1           5               3.586089              2.309755   \n",
              "2                 3           1               1.882948              0.868433   \n",
              "3                16           6               1.639738              0.744031   \n",
              "4                 3           8               3.395988              2.104669   \n",
              "...             ...         ...                    ...                   ...   \n",
              "39476             2          11               2.002244              1.092725   \n",
              "39477             7           1               5.046088              3.760205   \n",
              "39478             2           3              16.763670             16.472881   \n",
              "39479             7           4               1.131412              1.839080   \n",
              "39480             9           6               2.228037              0.947729   \n",
              "\n",
              "       distance_wall_street  dogs_allowed  cats_allowed  doorman  \\\n",
              "0                  1.661572             1             1        0   \n",
              "1                  1.430961             0             0        0   \n",
              "2                  3.243590             1             1        1   \n",
              "3                  3.768959             0             0        1   \n",
              "4                  1.748541             0             0        1   \n",
              "...                     ...           ...           ...      ...   \n",
              "39476              3.248987             1             1        0   \n",
              "39477              0.272484             0             0        1   \n",
              "39478             15.506220             0             0        0   \n",
              "39479              5.155192             1             1        0   \n",
              "39480              2.793001             1             1        1   \n",
              "\n",
              "       price_lower_than_2700  fee_inf  cool_manager  \n",
              "0                          1        1             0  \n",
              "1                          0        0             1  \n",
              "2                          1        0             0  \n",
              "3                          0        1             1  \n",
              "4                          0        0             1  \n",
              "...                      ...      ...           ...  \n",
              "39476                      0        0             0  \n",
              "39477                      0        0             1  \n",
              "39478                      1        0             0  \n",
              "39479                      1        0             1  \n",
              "39480                      0        0             1  \n",
              "\n",
              "[39375 rows x 17 columns]"
            ],
            "text/html": [
              "\n",
              "  <div id=\"df-d4c53fb4-1080-496b-960c-064f641a615d\">\n",
              "    <div class=\"colab-df-container\">\n",
              "      <div>\n",
              "<style scoped>\n",
              "    .dataframe tbody tr th:only-of-type {\n",
              "        vertical-align: middle;\n",
              "    }\n",
              "\n",
              "    .dataframe tbody tr th {\n",
              "        vertical-align: top;\n",
              "    }\n",
              "\n",
              "    .dataframe thead th {\n",
              "        text-align: right;\n",
              "    }\n",
              "</style>\n",
              "<table border=\"1\" class=\"dataframe\">\n",
              "  <thead>\n",
              "    <tr style=\"text-align: right;\">\n",
              "      <th></th>\n",
              "      <th>bathrooms</th>\n",
              "      <th>bedrooms</th>\n",
              "      <th>latitude</th>\n",
              "      <th>listing_id</th>\n",
              "      <th>longitude</th>\n",
              "      <th>price</th>\n",
              "      <th>num_features</th>\n",
              "      <th>num_photos</th>\n",
              "      <th>distance_central_park</th>\n",
              "      <th>distance_time_square</th>\n",
              "      <th>distance_wall_street</th>\n",
              "      <th>dogs_allowed</th>\n",
              "      <th>cats_allowed</th>\n",
              "      <th>doorman</th>\n",
              "      <th>price_lower_than_2700</th>\n",
              "      <th>fee_inf</th>\n",
              "      <th>cool_manager</th>\n",
              "    </tr>\n",
              "  </thead>\n",
              "  <tbody>\n",
              "    <tr>\n",
              "      <th>0</th>\n",
              "      <td>1.0</td>\n",
              "      <td>0</td>\n",
              "      <td>40.6969</td>\n",
              "      <td>7097709</td>\n",
              "      <td>-73.9830</td>\n",
              "      <td>2575</td>\n",
              "      <td>2</td>\n",
              "      <td>10</td>\n",
              "      <td>5.320034</td>\n",
              "      <td>4.197741</td>\n",
              "      <td>1.661572</td>\n",
              "      <td>1</td>\n",
              "      <td>1</td>\n",
              "      <td>0</td>\n",
              "      <td>1</td>\n",
              "      <td>1</td>\n",
              "      <td>0</td>\n",
              "    </tr>\n",
              "    <tr>\n",
              "      <th>1</th>\n",
              "      <td>1.0</td>\n",
              "      <td>2</td>\n",
              "      <td>40.7264</td>\n",
              "      <td>7071860</td>\n",
              "      <td>-74.0013</td>\n",
              "      <td>3250</td>\n",
              "      <td>1</td>\n",
              "      <td>5</td>\n",
              "      <td>3.586089</td>\n",
              "      <td>2.309755</td>\n",
              "      <td>1.430961</td>\n",
              "      <td>0</td>\n",
              "      <td>0</td>\n",
              "      <td>0</td>\n",
              "      <td>0</td>\n",
              "      <td>0</td>\n",
              "      <td>1</td>\n",
              "    </tr>\n",
              "    <tr>\n",
              "      <th>2</th>\n",
              "      <td>1.0</td>\n",
              "      <td>0</td>\n",
              "      <td>40.7466</td>\n",
              "      <td>7174524</td>\n",
              "      <td>-73.9779</td>\n",
              "      <td>2448</td>\n",
              "      <td>3</td>\n",
              "      <td>1</td>\n",
              "      <td>1.882948</td>\n",
              "      <td>0.868433</td>\n",
              "      <td>3.243590</td>\n",
              "      <td>1</td>\n",
              "      <td>1</td>\n",
              "      <td>1</td>\n",
              "      <td>1</td>\n",
              "      <td>0</td>\n",
              "      <td>0</td>\n",
              "    </tr>\n",
              "    <tr>\n",
              "      <th>3</th>\n",
              "      <td>1.0</td>\n",
              "      <td>1</td>\n",
              "      <td>40.7610</td>\n",
              "      <td>7104515</td>\n",
              "      <td>-73.9992</td>\n",
              "      <td>3300</td>\n",
              "      <td>16</td>\n",
              "      <td>6</td>\n",
              "      <td>1.639738</td>\n",
              "      <td>0.744031</td>\n",
              "      <td>3.768959</td>\n",
              "      <td>0</td>\n",
              "      <td>0</td>\n",
              "      <td>1</td>\n",
              "      <td>0</td>\n",
              "      <td>1</td>\n",
              "      <td>1</td>\n",
              "    </tr>\n",
              "    <tr>\n",
              "      <th>4</th>\n",
              "      <td>2.0</td>\n",
              "      <td>0</td>\n",
              "      <td>40.7324</td>\n",
              "      <td>6859942</td>\n",
              "      <td>-74.0081</td>\n",
              "      <td>5450</td>\n",
              "      <td>3</td>\n",
              "      <td>8</td>\n",
              "      <td>3.395988</td>\n",
              "      <td>2.104669</td>\n",
              "      <td>1.748541</td>\n",
              "      <td>0</td>\n",
              "      <td>0</td>\n",
              "      <td>1</td>\n",
              "      <td>0</td>\n",
              "      <td>0</td>\n",
              "      <td>1</td>\n",
              "    </tr>\n",
              "    <tr>\n",
              "      <th>...</th>\n",
              "      <td>...</td>\n",
              "      <td>...</td>\n",
              "      <td>...</td>\n",
              "      <td>...</td>\n",
              "      <td>...</td>\n",
              "      <td>...</td>\n",
              "      <td>...</td>\n",
              "      <td>...</td>\n",
              "      <td>...</td>\n",
              "      <td>...</td>\n",
              "      <td>...</td>\n",
              "      <td>...</td>\n",
              "      <td>...</td>\n",
              "      <td>...</td>\n",
              "      <td>...</td>\n",
              "      <td>...</td>\n",
              "      <td>...</td>\n",
              "    </tr>\n",
              "    <tr>\n",
              "      <th>39476</th>\n",
              "      <td>1.0</td>\n",
              "      <td>3</td>\n",
              "      <td>40.7446</td>\n",
              "      <td>7183085</td>\n",
              "      <td>-73.9740</td>\n",
              "      <td>3795</td>\n",
              "      <td>2</td>\n",
              "      <td>11</td>\n",
              "      <td>2.002244</td>\n",
              "      <td>1.092725</td>\n",
              "      <td>3.248987</td>\n",
              "      <td>1</td>\n",
              "      <td>1</td>\n",
              "      <td>0</td>\n",
              "      <td>0</td>\n",
              "      <td>0</td>\n",
              "      <td>0</td>\n",
              "    </tr>\n",
              "    <tr>\n",
              "      <th>39477</th>\n",
              "      <td>1.0</td>\n",
              "      <td>0</td>\n",
              "      <td>40.7085</td>\n",
              "      <td>6927008</td>\n",
              "      <td>-74.0165</td>\n",
              "      <td>2725</td>\n",
              "      <td>7</td>\n",
              "      <td>1</td>\n",
              "      <td>5.046088</td>\n",
              "      <td>3.760205</td>\n",
              "      <td>0.272484</td>\n",
              "      <td>0</td>\n",
              "      <td>0</td>\n",
              "      <td>1</td>\n",
              "      <td>0</td>\n",
              "      <td>0</td>\n",
              "      <td>1</td>\n",
              "    </tr>\n",
              "    <tr>\n",
              "      <th>39478</th>\n",
              "      <td>1.0</td>\n",
              "      <td>0</td>\n",
              "      <td>40.5956</td>\n",
              "      <td>6852162</td>\n",
              "      <td>-73.7555</td>\n",
              "      <td>999</td>\n",
              "      <td>2</td>\n",
              "      <td>3</td>\n",
              "      <td>16.763670</td>\n",
              "      <td>16.472881</td>\n",
              "      <td>15.506220</td>\n",
              "      <td>0</td>\n",
              "      <td>0</td>\n",
              "      <td>0</td>\n",
              "      <td>1</td>\n",
              "      <td>0</td>\n",
              "      <td>0</td>\n",
              "    </tr>\n",
              "    <tr>\n",
              "      <th>39479</th>\n",
              "      <td>1.0</td>\n",
              "      <td>1</td>\n",
              "      <td>40.7671</td>\n",
              "      <td>7103463</td>\n",
              "      <td>-73.9529</td>\n",
              "      <td>2450</td>\n",
              "      <td>7</td>\n",
              "      <td>4</td>\n",
              "      <td>1.131412</td>\n",
              "      <td>1.839080</td>\n",
              "      <td>5.155192</td>\n",
              "      <td>1</td>\n",
              "      <td>1</td>\n",
              "      <td>0</td>\n",
              "      <td>1</td>\n",
              "      <td>0</td>\n",
              "      <td>1</td>\n",
              "    </tr>\n",
              "    <tr>\n",
              "      <th>39480</th>\n",
              "      <td>1.0</td>\n",
              "      <td>0</td>\n",
              "      <td>40.7448</td>\n",
              "      <td>7162044</td>\n",
              "      <td>-73.9919</td>\n",
              "      <td>3345</td>\n",
              "      <td>9</td>\n",
              "      <td>6</td>\n",
              "      <td>2.228037</td>\n",
              "      <td>0.947729</td>\n",
              "      <td>2.793001</td>\n",
              "      <td>1</td>\n",
              "      <td>1</td>\n",
              "      <td>1</td>\n",
              "      <td>0</td>\n",
              "      <td>0</td>\n",
              "      <td>1</td>\n",
              "    </tr>\n",
              "  </tbody>\n",
              "</table>\n",
              "<p>39375 rows × 17 columns</p>\n",
              "</div>\n",
              "      <button class=\"colab-df-convert\" onclick=\"convertToInteractive('df-d4c53fb4-1080-496b-960c-064f641a615d')\"\n",
              "              title=\"Convert this dataframe to an interactive table.\"\n",
              "              style=\"display:none;\">\n",
              "        \n",
              "  <svg xmlns=\"http://www.w3.org/2000/svg\" height=\"24px\"viewBox=\"0 0 24 24\"\n",
              "       width=\"24px\">\n",
              "    <path d=\"M0 0h24v24H0V0z\" fill=\"none\"/>\n",
              "    <path d=\"M18.56 5.44l.94 2.06.94-2.06 2.06-.94-2.06-.94-.94-2.06-.94 2.06-2.06.94zm-11 1L8.5 8.5l.94-2.06 2.06-.94-2.06-.94L8.5 2.5l-.94 2.06-2.06.94zm10 10l.94 2.06.94-2.06 2.06-.94-2.06-.94-.94-2.06-.94 2.06-2.06.94z\"/><path d=\"M17.41 7.96l-1.37-1.37c-.4-.4-.92-.59-1.43-.59-.52 0-1.04.2-1.43.59L10.3 9.45l-7.72 7.72c-.78.78-.78 2.05 0 2.83L4 21.41c.39.39.9.59 1.41.59.51 0 1.02-.2 1.41-.59l7.78-7.78 2.81-2.81c.8-.78.8-2.07 0-2.86zM5.41 20L4 18.59l7.72-7.72 1.47 1.35L5.41 20z\"/>\n",
              "  </svg>\n",
              "      </button>\n",
              "      \n",
              "  <style>\n",
              "    .colab-df-container {\n",
              "      display:flex;\n",
              "      flex-wrap:wrap;\n",
              "      gap: 12px;\n",
              "    }\n",
              "\n",
              "    .colab-df-convert {\n",
              "      background-color: #E8F0FE;\n",
              "      border: none;\n",
              "      border-radius: 50%;\n",
              "      cursor: pointer;\n",
              "      display: none;\n",
              "      fill: #1967D2;\n",
              "      height: 32px;\n",
              "      padding: 0 0 0 0;\n",
              "      width: 32px;\n",
              "    }\n",
              "\n",
              "    .colab-df-convert:hover {\n",
              "      background-color: #E2EBFA;\n",
              "      box-shadow: 0px 1px 2px rgba(60, 64, 67, 0.3), 0px 1px 3px 1px rgba(60, 64, 67, 0.15);\n",
              "      fill: #174EA6;\n",
              "    }\n",
              "\n",
              "    [theme=dark] .colab-df-convert {\n",
              "      background-color: #3B4455;\n",
              "      fill: #D2E3FC;\n",
              "    }\n",
              "\n",
              "    [theme=dark] .colab-df-convert:hover {\n",
              "      background-color: #434B5C;\n",
              "      box-shadow: 0px 1px 3px 1px rgba(0, 0, 0, 0.15);\n",
              "      filter: drop-shadow(0px 1px 2px rgba(0, 0, 0, 0.3));\n",
              "      fill: #FFFFFF;\n",
              "    }\n",
              "  </style>\n",
              "\n",
              "      <script>\n",
              "        const buttonEl =\n",
              "          document.querySelector('#df-d4c53fb4-1080-496b-960c-064f641a615d button.colab-df-convert');\n",
              "        buttonEl.style.display =\n",
              "          google.colab.kernel.accessAllowed ? 'block' : 'none';\n",
              "\n",
              "        async function convertToInteractive(key) {\n",
              "          const element = document.querySelector('#df-d4c53fb4-1080-496b-960c-064f641a615d');\n",
              "          const dataTable =\n",
              "            await google.colab.kernel.invokeFunction('convertToInteractive',\n",
              "                                                     [key], {});\n",
              "          if (!dataTable) return;\n",
              "\n",
              "          const docLinkHtml = 'Like what you see? Visit the ' +\n",
              "            '<a target=\"_blank\" href=https://colab.research.google.com/notebooks/data_table.ipynb>data table notebook</a>'\n",
              "            + ' to learn more about interactive tables.';\n",
              "          element.innerHTML = '';\n",
              "          dataTable['output_type'] = 'display_data';\n",
              "          await google.colab.output.renderOutput(dataTable, element);\n",
              "          const docLink = document.createElement('div');\n",
              "          docLink.innerHTML = docLinkHtml;\n",
              "          element.appendChild(docLink);\n",
              "        }\n",
              "      </script>\n",
              "    </div>\n",
              "  </div>\n",
              "  "
            ]
          },
          "metadata": {},
          "execution_count": 52
        }
      ]
    },
    {
      "cell_type": "markdown",
      "source": [
        "7)Из базы по рекламе знаю, что постить для большего охвата лучше во время обеда (12:00 - 13:00) либо после работы\n"
      ],
      "metadata": {
        "id": "XCUhWUkxZKUY"
      }
    },
    {
      "cell_type": "code",
      "source": [
        "train[\"created\"] = pd.to_datetime(train[\"created\"])\n",
        "train[\"created_hour\"] = train.created.dt.hour"
      ],
      "metadata": {
        "id": "lrJ931O3butR"
      },
      "execution_count": 71,
      "outputs": []
    },
    {
      "cell_type": "markdown",
      "source": [
        "Удалим сильно коррелирующие между собой признаки"
      ],
      "metadata": {
        "id": "OTGRS1oRXHCX"
      }
    },
    {
      "cell_type": "code",
      "source": [
        "dropped = ['latitude','distance_time_square','distance_wall_street','dogs_allowed']"
      ],
      "metadata": {
        "id": "CRRmDZ4gXKhX"
      },
      "execution_count": 116,
      "outputs": []
    },
    {
      "cell_type": "code",
      "source": [
        "train.drop(dropped, axis = 1)[].columns"
      ],
      "metadata": {
        "colab": {
          "base_uri": "https://localhost:8080/"
        },
        "id": "rf3mY5fDhyF6",
        "outputId": "c027d9c6-cca3-44b8-a086-367125f6768d"
      },
      "execution_count": 112,
      "outputs": [
        {
          "output_type": "execute_result",
          "data": {
            "text/plain": [
              "Index(['bathrooms', 'bedrooms', 'building_id', 'description',\n",
              "       'display_address', 'features', 'listing_id', 'longitude', 'manager_id',\n",
              "       'photos', 'price', 'street_address', 'num_features', 'num_photos',\n",
              "       'distance_central_park', 'cats_allowed', 'doorman',\n",
              "       'price_lower_than_2700', 'clean_desc', 'fee_inf', 'cool_manager',\n",
              "       'created_hour'],\n",
              "      dtype='object')"
            ]
          },
          "metadata": {},
          "execution_count": 112
        }
      ]
    },
    {
      "cell_type": "markdown",
      "source": [
        "## 2. Тестирование различных алгоритмов"
      ],
      "metadata": {
        "id": "mpcBwtMXddKu"
      }
    },
    {
      "cell_type": "code",
      "source": [
        "from sklearn.model_selection import train_test_split, StratifiedKFold, RandomizedSearchCV\n",
        "from sklearn.preprocessing import StandardScaler, Normalizer\n",
        "from sklearn.neural_network import MLPClassifier\n",
        "from sklearn.neighbors import KNeighborsClassifier\n",
        "from sklearn.svm import SVC\n",
        "from sklearn.svm import LinearSVC\n",
        "from sklearn.gaussian_process import GaussianProcessClassifier\n",
        "from sklearn.tree import DecisionTreeClassifier\n",
        "from sklearn.ensemble import RandomForestClassifier, AdaBoostClassifier\n",
        "from sklearn.naive_bayes import GaussianNB\n",
        "from sklearn.discriminant_analysis import QuadraticDiscriminantAnalysis\n",
        "from xgboost import XGBClassifier\n",
        "from sklearn.metrics import accuracy_score, f1_score, average_precision_score, roc_auc_score, classification_report, precision_score, recall_score\n",
        "import joblib"
      ],
      "metadata": {
        "id": "rHL5AwRoj-dV"
      },
      "execution_count": 133,
      "outputs": []
    },
    {
      "cell_type": "code",
      "source": [
        "num_columns = ['bathrooms',\n",
        " 'bedrooms',\n",
        " 'latitude',\n",
        " 'listing_id',\n",
        " 'longitude',\n",
        " 'price',\n",
        " 'num_features',\n",
        " 'num_photos',\n",
        " 'distance_central_park',\n",
        " 'distance_time_square',\n",
        " 'distance_wall_street',\n",
        " 'dogs_allowed',\n",
        " 'cats_allowed',\n",
        " 'doorman',\n",
        " 'price_lower_than_2700',\n",
        " 'fee_inf',\n",
        " 'cool_manager',\n",
        " 'created_hour']"
      ],
      "metadata": {
        "id": "J978alOVgLgm"
      },
      "execution_count": 99,
      "outputs": []
    },
    {
      "cell_type": "code",
      "source": [
        "features = ['bathrooms', 'bedrooms', 'listing_id','longitude','price','num_features','num_photos','cats_allowed','doorman','price_lower_than_2700','fee_inf','cool_manager','created_hour']\n",
        "target = 'interest_level'"
      ],
      "metadata": {
        "id": "5sgzU65bdcyP"
      },
      "execution_count": 76,
      "outputs": []
    },
    {
      "cell_type": "code",
      "source": [
        "scaler = StandardScaler()\n",
        "scaled_train = scaler.fit_transform(train[num_columns])"
      ],
      "metadata": {
        "id": "1WsujcoVeg3O"
      },
      "execution_count": 125,
      "outputs": []
    },
    {
      "cell_type": "code",
      "source": [
        "X_train, X_test, y_train, y_test = train_test_split(scaled_train, train[target],\n",
        "                                                    test_size=0.25, random_state=777)"
      ],
      "metadata": {
        "id": "V1DSK-zheQ0F"
      },
      "execution_count": 126,
      "outputs": []
    },
    {
      "cell_type": "code",
      "source": [
        "lg = LogisticRegression(random_state = 777)\n",
        "lg.fit(X_train, y_train)\n",
        "predicts = lg.predict(X_test)\n",
        "predicts_proba = lg.predict_proba(X_test)"
      ],
      "metadata": {
        "colab": {
          "base_uri": "https://localhost:8080/"
        },
        "id": "mKFue2sGeTEk",
        "outputId": "59460b57-e457-4a54-b481-5282aa421a67"
      },
      "execution_count": 129,
      "outputs": [
        {
          "output_type": "stream",
          "name": "stderr",
          "text": [
            "/usr/local/lib/python3.8/dist-packages/sklearn/linear_model/_logistic.py:814: ConvergenceWarning: lbfgs failed to converge (status=1):\n",
            "STOP: TOTAL NO. of ITERATIONS REACHED LIMIT.\n",
            "\n",
            "Increase the number of iterations (max_iter) or scale the data as shown in:\n",
            "    https://scikit-learn.org/stable/modules/preprocessing.html\n",
            "Please also refer to the documentation for alternative solver options:\n",
            "    https://scikit-learn.org/stable/modules/linear_model.html#logistic-regression\n",
            "  n_iter_i = _check_optimize_result(\n"
          ]
        }
      ]
    },
    {
      "cell_type": "code",
      "source": [
        "f1_score(y_test, predicts, average='macro')"
      ],
      "metadata": {
        "colab": {
          "base_uri": "https://localhost:8080/"
        },
        "id": "nW32FrgFe6ua",
        "outputId": "1705f596-749c-4dc5-b814-06c41a6eb353"
      },
      "execution_count": 130,
      "outputs": [
        {
          "output_type": "execute_result",
          "data": {
            "text/plain": [
              "0.3902501663031602"
            ]
          },
          "metadata": {},
          "execution_count": 130
        }
      ]
    },
    {
      "cell_type": "code",
      "source": [
        "--------------------------------------"
      ],
      "metadata": {
        "id": "SBTpcviAjPg9"
      },
      "execution_count": null,
      "outputs": []
    },
    {
      "cell_type": "code",
      "source": [
        "scv = LinearSVC(random_state = 777)\n",
        "scv.fit(X_train, y_train)\n",
        "predicts = scv.predict(X_test)"
      ],
      "metadata": {
        "colab": {
          "base_uri": "https://localhost:8080/"
        },
        "id": "j8v-YsqKjQdP",
        "outputId": "168fe7a0-4d32-4d16-e138-d53d8b80b8eb"
      },
      "execution_count": 134,
      "outputs": [
        {
          "output_type": "stream",
          "name": "stderr",
          "text": [
            "/usr/local/lib/python3.8/dist-packages/sklearn/svm/_base.py:1206: ConvergenceWarning: Liblinear failed to converge, increase the number of iterations.\n",
            "  warnings.warn(\n"
          ]
        }
      ]
    },
    {
      "cell_type": "code",
      "source": [
        "f1_score(y_test, predicts, average='macro')"
      ],
      "metadata": {
        "colab": {
          "base_uri": "https://localhost:8080/"
        },
        "id": "Bya9i3zbkMDt",
        "outputId": "fac0bd28-0494-48a9-ff5c-e0be3617db5e"
      },
      "execution_count": 135,
      "outputs": [
        {
          "output_type": "execute_result",
          "data": {
            "text/plain": [
              "0.3226419224096945"
            ]
          },
          "metadata": {},
          "execution_count": 135
        }
      ]
    },
    {
      "cell_type": "code",
      "source": [
        "knn = KNeighborsClassifier(n_neighbors=3)\n",
        "knn.fit(X_train, y_train)\n",
        "predicts = knn.predict(X_test)"
      ],
      "metadata": {
        "id": "jHqQ4ZaLkOzz"
      },
      "execution_count": 136,
      "outputs": []
    },
    {
      "cell_type": "code",
      "source": [
        "f1_score(y_test, predicts, average='macro')"
      ],
      "metadata": {
        "colab": {
          "base_uri": "https://localhost:8080/"
        },
        "id": "oFsmVeyukQ0d",
        "outputId": "10dc9cf0-f1f1-4574-c865-61c84543237a"
      },
      "execution_count": 137,
      "outputs": [
        {
          "output_type": "execute_result",
          "data": {
            "text/plain": [
              "0.4253689289104075"
            ]
          },
          "metadata": {},
          "execution_count": 137
        }
      ]
    },
    {
      "cell_type": "code",
      "source": [
        "dt = DecisionTreeClassifier(random_state=777, class_weight='balanced')\n",
        "dt.fit(X_train, y_train)\n",
        "predicts = dt.predict(X_test)"
      ],
      "metadata": {
        "id": "b_DNjSgNkXQA"
      },
      "execution_count": 138,
      "outputs": []
    },
    {
      "cell_type": "code",
      "source": [
        "f1_score(y_test, predicts, average='macro')"
      ],
      "metadata": {
        "colab": {
          "base_uri": "https://localhost:8080/"
        },
        "id": "E2CkfLs4kY8T",
        "outputId": "647aa7c4-24c9-43f5-9866-2a5efa5ca82c"
      },
      "execution_count": 139,
      "outputs": [
        {
          "output_type": "execute_result",
          "data": {
            "text/plain": [
              "0.4939893421849724"
            ]
          },
          "metadata": {},
          "execution_count": 139
        }
      ]
    },
    {
      "cell_type": "code",
      "source": [
        "rf = RandomForestClassifier(n_estimators = 100, random_state=777)\n",
        "rf.fit(X_train, y_train)\n",
        "predicts = rf.predict(X_test)"
      ],
      "metadata": {
        "id": "EPTlM7Yukf2k"
      },
      "execution_count": 140,
      "outputs": []
    },
    {
      "cell_type": "code",
      "source": [
        "f1_score(y_test, predicts, average='macro')"
      ],
      "metadata": {
        "colab": {
          "base_uri": "https://localhost:8080/"
        },
        "id": "OvlLL0uJkiSM",
        "outputId": "f2e902db-b402-41a7-9755-944a2b2051e7"
      },
      "execution_count": 141,
      "outputs": [
        {
          "output_type": "execute_result",
          "data": {
            "text/plain": [
              "0.5271793703291646"
            ]
          },
          "metadata": {},
          "execution_count": 141
        }
      ]
    },
    {
      "cell_type": "code",
      "source": [
        "xgb = XGBClassifier(seed=777)\n",
        "xgb.fit(X_train, y_train)\n",
        "predicts = xgb.predict(X_test)"
      ],
      "metadata": {
        "id": "LZP_hrrzkox_"
      },
      "execution_count": 142,
      "outputs": []
    },
    {
      "cell_type": "code",
      "source": [
        "f1_score(y_test, predicts, average='macro')"
      ],
      "metadata": {
        "colab": {
          "base_uri": "https://localhost:8080/"
        },
        "id": "BFXFWiNnkqz4",
        "outputId": "583538ca-58c9-4d09-922b-faaadda6b9a2"
      },
      "execution_count": 143,
      "outputs": [
        {
          "output_type": "execute_result",
          "data": {
            "text/plain": [
              "0.4696651191210856"
            ]
          },
          "metadata": {},
          "execution_count": 143
        }
      ]
    },
    {
      "cell_type": "code",
      "source": [
        "skf = StratifiedKFold(n_splits=3, shuffle=True, random_state=42)\n",
        "params = {\n",
        "    'max_depth': [3, 4, None, 5],\n",
        "    \"min_samples_leaf\": list(range(1, 5))\n",
        "}\n",
        "\n",
        "rf = RandomForestClassifier(n_estimators=100, random_state=42, \n",
        "                             n_jobs=-1, oob_score=True)\n",
        "\n",
        "dt_random_search = RandomizedSearchCV(rf, params, n_jobs=-1, cv=skf, verbose=1)\n",
        "dt_random_search.fit(X_train, y_train)\n",
        "\n",
        "print(dt_random_search.best_estimator_)\n",
        "print(dt_random_search.best_params_)"
      ],
      "metadata": {
        "colab": {
          "base_uri": "https://localhost:8080/"
        },
        "id": "y8rg4UnAk_Hv",
        "outputId": "ec58860f-5b31-4636-911a-8e9b96cd15ca"
      },
      "execution_count": 144,
      "outputs": [
        {
          "output_type": "stream",
          "name": "stdout",
          "text": [
            "Fitting 3 folds for each of 10 candidates, totalling 30 fits\n",
            "RandomForestClassifier(min_samples_leaf=2, n_jobs=-1, oob_score=True,\n",
            "                       random_state=42)\n",
            "{'min_samples_leaf': 2, 'max_depth': None}\n"
          ]
        }
      ]
    },
    {
      "cell_type": "code",
      "source": [
        "predicts = dt_random_search.predict(X_test)"
      ],
      "metadata": {
        "id": "lVsCzYl3lRnA"
      },
      "execution_count": 145,
      "outputs": []
    },
    {
      "cell_type": "code",
      "source": [
        "f1_score(y_test, predicts, average='macro')"
      ],
      "metadata": {
        "colab": {
          "base_uri": "https://localhost:8080/"
        },
        "id": "heX3LzrMlUXQ",
        "outputId": "d22f6c38-9850-4489-947c-212876db7b8d"
      },
      "execution_count": 146,
      "outputs": [
        {
          "output_type": "execute_result",
          "data": {
            "text/plain": [
              "0.5192362869258198"
            ]
          },
          "metadata": {},
          "execution_count": 146
        }
      ]
    },
    {
      "cell_type": "code",
      "source": [
        "rf = dt_random_search.best_estimator_\n",
        "rf.fit(train[features], train[target])"
      ],
      "metadata": {
        "id": "E95jHT1IlHF0"
      },
      "execution_count": null,
      "outputs": []
    }
  ]
}