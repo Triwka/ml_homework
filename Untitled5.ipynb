{
  "nbformat": 4,
  "nbformat_minor": 0,
  "metadata": {
    "colab": {
      "provenance": [],
      "authorship_tag": "ABX9TyMLHKML7tjzdnt9mS3FUkT2",
      "include_colab_link": true
    },
    "kernelspec": {
      "name": "python3",
      "display_name": "Python 3"
    },
    "language_info": {
      "name": "python"
    }
  },
  "cells": [
    {
      "cell_type": "markdown",
      "metadata": {
        "id": "view-in-github",
        "colab_type": "text"
      },
      "source": [
        "<a href=\"https://colab.research.google.com/github/Triwka/ml_homework/blob/main/Untitled5.ipynb\" target=\"_parent\"><img src=\"https://colab.research.google.com/assets/colab-badge.svg\" alt=\"Open In Colab\"/></a>"
      ]
    },
    {
      "cell_type": "code",
      "execution_count": null,
      "metadata": {
        "id": "0j-G2HAu5h3s"
      },
      "outputs": [],
      "source": [
        "123"
      ]
    },
    {
      "cell_type": "markdown",
      "source": [
        "вау"
      ],
      "metadata": {
        "id": "l3ZC2XiU50VE"
      }
    },
    {
      "cell_type": "code",
      "source": [],
      "metadata": {
        "id": "lIc5wjt450wi"
      },
      "execution_count": null,
      "outputs": []
    }
  ]
}